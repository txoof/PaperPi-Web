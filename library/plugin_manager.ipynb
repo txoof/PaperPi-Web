{
 "cells": [
  {
   "cell_type": "code",
   "execution_count": 1,
   "id": "44006ac7-8ef5-4cd2-8596-60e4ff089a23",
   "metadata": {},
   "outputs": [],
   "source": [
    "from pathlib import Path\n",
    "import yaml\n",
    "import logging\n",
    "\n",
    "try:\n",
    "    from .exceptions import PluginError, ImageError, PluginTimeoutError, FileError, ConfigurationError\n",
    "except ImportError:\n",
    "    # support jupyter developement\n",
    "    from exceptions import PluginError, ImageError, PluginTimeoutError, FileError, ConfigurationError"
   ]
  },
  {
   "cell_type": "code",
   "execution_count": 2,
   "id": "fdff1568-3df9-435e-9fb7-fdb35a7b30d3",
   "metadata": {},
   "outputs": [],
   "source": [
    "logger = logging.getLogger(__name__)"
   ]
  },
  {
   "cell_type": "code",
   "execution_count": 3,
   "id": "4742a1a6-4b69-457e-b042-b9edb1187466",
   "metadata": {},
   "outputs": [
    {
     "name": "stdout",
     "output_type": "stream",
     "text": [
      "2024-12-28 07:45:45,828 [INFO] [__main__] - Notebook logging configured.\n"
     ]
    }
   ],
   "source": [
    "import logging\n",
    "import sys\n",
    "\n",
    "# Configure logging to show in Jupyter Notebook\n",
    "def setup_notebook_logging(level=logging.DEBUG):\n",
    "    log_format = '%(asctime)s [%(levelname)s] [%(name)s] - %(message)s'\n",
    "    \n",
    "    # Clear any existing handlers to prevent duplicate logging\n",
    "    for handler in logging.root.handlers[:]:\n",
    "        logging.root.removeHandler(handler)\n",
    "\n",
    "    # Set up logging for notebook\n",
    "    logging.basicConfig(\n",
    "        level=level,\n",
    "        format=log_format,\n",
    "        handlers=[logging.StreamHandler(sys.stdout)]\n",
    "    )\n",
    "    \n",
    "    logging.getLogger(__name__).info(\"Notebook logging configured.\")\n",
    "\n",
    "# Run this cell to enable logging\n",
    "setup_notebook_logging()"
   ]
  },
  {
   "cell_type": "code",
   "execution_count": 6,
   "id": "4038fcd8-4524-42ff-9fb8-bedaa24cbe55",
   "metadata": {},
   "outputs": [],
   "source": [
    "class PluginManager:\n",
    "    def __init__(\n",
    "        self,\n",
    "        config: dict={},\n",
    "        plugin_path: Path=None,\n",
    "        base_config_path: Path=None\n",
    "    ):\n",
    "        \"\"\"\n",
    "        Initialize the PluginManager.\n",
    "    \n",
    "        Args:\n",
    "            config (dict): Dictionary containing plugin configuration.\n",
    "            plugin_path (Path): Path to the directory containing plugins.\n",
    "            base_config_path (Path): Path to base configuration schema for validation.\n",
    "        \"\"\"\n",
    "        # Create a logger for this class/module\n",
    "        logger.debug(\"PluginManager instance created.\")        \n",
    "        self._base_schema = None\n",
    "        self.config = config\n",
    "        self.plugin_path = plugin_path\n",
    "        self.base_config_path = base_config_path\n",
    "        self.active_plugins = []\n",
    "        self.dormant_plugins = []\n",
    "\n",
    "    @property\n",
    "    def base_config_path(self):\n",
    "        return self._base_config_path\n",
    "\n",
    "    @base_config_path.setter\n",
    "    def base_config_path(self, value):\n",
    "        if not value:\n",
    "            raise ValueError(\"base_config_path cannot be empty.\")\n",
    "            \n",
    "        if not isinstance(value, Path):\n",
    "            value = Path(value)\n",
    "\n",
    "        if not value.is_file():\n",
    "            raise FileNotFoundError(f\"Schema file not found at {value}\")\n",
    "\n",
    "        self._base_config_path = value\n",
    "        # Invalidate cached schema to trigger reload\n",
    "        self._base_schema = None \n",
    "\n",
    "    @property\n",
    "    def base_schema(self):\n",
    "        if self._base_schema is None:\n",
    "            logger.info(f\"Loading base config schema from {self._base_config_path}\")\n",
    "            with open(self._base_config_path, 'r') as f:\n",
    "                self._base_schema = yaml.safe_load(f)\n",
    "        return self._base_schema\n",
    "    \n"
   ]
  },
  {
   "cell_type": "code",
   "execution_count": 7,
   "id": "b37e85f6-8ad3-4ffa-a156-6c8d18c323c0",
   "metadata": {},
   "outputs": [
    {
     "name": "stdout",
     "output_type": "stream",
     "text": [
      "2024-12-28 07:46:01,561 [DEBUG] [__main__] - PluginManager instance created.\n"
     ]
    }
   ],
   "source": [
    "m = PluginManager(\n",
    "    config={}, \n",
    "    plugin_path='../plugins', \n",
    "    base_config_path='../config/plugin_schema.yaml')"
   ]
  },
  {
   "cell_type": "code",
   "execution_count": null,
   "id": "8371ddea-4602-45f3-97b4-64543f27d148",
   "metadata": {},
   "outputs": [],
   "source": []
  },
  {
   "cell_type": "code",
   "execution_count": 23,
   "id": "6319453f-7738-4572-93a6-0f035a08cf5b",
   "metadata": {},
   "outputs": [
    {
     "ename": "NameError",
     "evalue": "name 'logger' is not defined",
     "output_type": "error",
     "traceback": [
      "\u001b[0;31m---------------------------------------------------------------------------\u001b[0m",
      "\u001b[0;31mNameError\u001b[0m                                 Traceback (most recent call last)",
      "Cell \u001b[0;32mIn[23], line 1\u001b[0m\n\u001b[0;32m----> 1\u001b[0m \u001b[43mm\u001b[49m\u001b[38;5;241;43m.\u001b[39;49m\u001b[43mbase_schema\u001b[49m\n",
      "Cell \u001b[0;32mIn[20], line 48\u001b[0m, in \u001b[0;36mPluginManager.base_schema\u001b[0;34m(self)\u001b[0m\n\u001b[1;32m     45\u001b[0m \u001b[38;5;129m@property\u001b[39m\n\u001b[1;32m     46\u001b[0m \u001b[38;5;28;01mdef\u001b[39;00m \u001b[38;5;21mbase_schema\u001b[39m(\u001b[38;5;28mself\u001b[39m):\n\u001b[1;32m     47\u001b[0m     \u001b[38;5;28;01mif\u001b[39;00m \u001b[38;5;28mself\u001b[39m\u001b[38;5;241m.\u001b[39m_base_schema \u001b[38;5;129;01mis\u001b[39;00m \u001b[38;5;28;01mNone\u001b[39;00m:\n\u001b[0;32m---> 48\u001b[0m         \u001b[43mlogger\u001b[49m\u001b[38;5;241m.\u001b[39minfo(\u001b[38;5;124mf\u001b[39m\u001b[38;5;124m\"\u001b[39m\u001b[38;5;124mLoading base config schema from \u001b[39m\u001b[38;5;132;01m{\u001b[39;00m\u001b[38;5;28mself\u001b[39m\u001b[38;5;241m.\u001b[39m_base_config_path\u001b[38;5;132;01m}\u001b[39;00m\u001b[38;5;124m\"\u001b[39m)\n\u001b[1;32m     49\u001b[0m         \u001b[38;5;28;01mwith\u001b[39;00m \u001b[38;5;28mopen\u001b[39m(\u001b[38;5;28mself\u001b[39m\u001b[38;5;241m.\u001b[39m_base_config_path, \u001b[38;5;124m'\u001b[39m\u001b[38;5;124mr\u001b[39m\u001b[38;5;124m'\u001b[39m) \u001b[38;5;28;01mas\u001b[39;00m f:\n\u001b[1;32m     50\u001b[0m             \u001b[38;5;28mself\u001b[39m\u001b[38;5;241m.\u001b[39m_base_schema \u001b[38;5;241m=\u001b[39m yaml\u001b[38;5;241m.\u001b[39msafe_load(f)\n",
      "\u001b[0;31mNameError\u001b[0m: name 'logger' is not defined"
     ]
    }
   ],
   "source": [
    "m.base_schema"
   ]
  },
  {
   "cell_type": "code",
   "execution_count": 10,
   "id": "a58da8aa-23bc-4f25-a2dc-0bd850505d85",
   "metadata": {},
   "outputs": [
    {
     "data": {
      "text/plain": [
       "'../plugins'"
      ]
     },
     "execution_count": 10,
     "metadata": {},
     "output_type": "execute_result"
    }
   ],
   "source": [
    "m.plugin_path"
   ]
  },
  {
   "cell_type": "code",
   "execution_count": null,
   "id": "ab19c82a-d2f6-4ef4-8560-b602d0748aba",
   "metadata": {},
   "outputs": [],
   "source": []
  },
  {
   "cell_type": "markdown",
   "id": "6ff9902b-2c11-4649-9bc4-b2883f16d01d",
   "metadata": {},
   "source": [
    "## fix me!\n",
    "\n",
    "The code below should be used to load configuration from the user/system config and then use it to setup the plugin when it is created.\n"
   ]
  },
  {
   "cell_type": "code",
   "execution_count": 1,
   "id": "4d3e2fb9-dede-43b2-bdfb-5c10112b801a",
   "metadata": {},
   "outputs": [],
   "source": [
    "\n",
    "    def load_base_schema(self):\n",
    "        \"\"\"\n",
    "        Load and validate base configuration using the global schema at \n",
    "        PaperPi/config/plugin_schema.yaml.\n",
    "        \n",
    "        Raises:\n",
    "            PluginError: If base config fails critical validation.\n",
    "        \"\"\"\n",
    "        schema_file = Path(self.base_config_path) / 'plugin_schema.yaml'\n",
    "        logger.info(f'Loading base plugin schema: {schema_file}')\n",
    "\n",
    "        if not schema_file.is_file():\n",
    "            logger.error(f\"Base schema {schema_file} missing. Cannot proceed.\")\n",
    "            raise FileError(\"Base schema is required but missing.\")\n",
    "\n",
    "        try:\n",
    "            with open(schema_file, 'r') as f:\n",
    "                schema = yaml.safe_load(f)\n",
    "\n",
    "            base_schema = schema.get('base_config', {})\n",
    "            if not base_schema:\n",
    "                raise ConfigurationError(f'Error locating \"base_config\" section in {schema_file}')\n",
    "            self.validate_schema(self.config, base_schema, \"Base Config\")\n",
    "\n",
    "        except Exception as e:\n",
    "            msg = f\"{self.name} - Error loading base schema: {e}\"\n",
    "            logger.error(msg)\n",
    "            raise PluginError(msg, plugin_name=self.name)\n",
    "\n",
    "    def load_plugin_schema(self):\n",
    "        \"\"\"\n",
    "        Load and validate plugin configuration using plugin_config.yaml\n",
    "        in the plugin directory.\n",
    "        \n",
    "        Raises:\n",
    "            PluginError: If plugin config fails validation.\n",
    "        \"\"\"\n",
    "        schema_file = self.plugin_path / 'plugin_config.yaml'\n",
    "\n",
    "        if not schema_file.is_file():\n",
    "            logger.warning(f\"{self.name} - plugin_config.yaml not found. Skipping plugin config validation.\")\n",
    "            return\n",
    "\n",
    "        try:\n",
    "            with open(schema_file, 'r') as f:\n",
    "                schema = yaml.safe_load(f)\n",
    "\n",
    "            plugin_schema = schema.get('plugin_config', {})\n",
    "            # additional configuration is not required for plugins\n",
    "            if plugin_schema:\n",
    "                self.validate_schema(self.config, plugin_schema, \"Plugin Config\")\n",
    "            else:\n",
    "                pass\n",
    "\n",
    "        except Exception as e:\n",
    "            msg = f\"{self.name} - Error loading plugin schema: {e}\"\n",
    "            logger.error(msg)\n",
    "            raise PluginError(msg, plugin_name=self.name)\n",
    "\n",
    "    def validate_schema(self, config, schema, schema_name):\n",
    "        \"\"\"\n",
    "        Validate a configuration dictionary against a schema.\n",
    "\n",
    "        Args:\n",
    "            config (dict): Configuration to validate.\n",
    "            schema (dict): Schema for validation.\n",
    "            schema_name (str): Name of the schema for logging.\n",
    "\n",
    "        Raises:\n",
    "            PluginError: If required fields are missing or invalid.\n",
    "        \"\"\"\n",
    "        for key, params in schema.items():\n",
    "            # Apply defaults if missing\n",
    "            if key not in config:\n",
    "                config[key] = params.get('default')\n",
    "                logger.info(f\"{schema_name} - {key} set to default: {config[key]}\")\n",
    "\n",
    "            value = config[key]\n",
    "            expected_type = eval(params['type'])\n",
    "\n",
    "            # Type check\n",
    "            if not isinstance(value, expected_type):\n",
    "                msg = f\"{schema_name} - {key} must be of type {expected_type}.\"\n",
    "                logger.error(msg)\n",
    "                raise PluginError(msg, plugin_name=self.name)\n",
    "\n",
    "            # Allowed values\n",
    "            allowed = params.get('allowed')\n",
    "            if allowed and value not in allowed:\n",
    "                msg = f\"{schema_name} - {key} must be one of {allowed}.\"\n",
    "                logger.error(msg)\n",
    "                raise PluginError(msg, plugin_name=self.name)\n",
    "\n",
    "            # Required field missing\n",
    "            if params.get('required') and value is None:\n",
    "                msg = f\"{schema_name} - {key} is required but missing.\"\n",
    "                logger.error(msg)\n",
    "                raise PluginError(msg, plugin_name=self.name)\n",
    "\n",
    "    def load_update_function(self):\n",
    "        \"\"\"\n",
    "        Dynamically load the update_function from plugin.py in the plugin directory.\n",
    "        Treats the plugin directory as a package to handle relative imports.\n",
    "        \"\"\"\n",
    "        plugin_name = self.plugin_path.stem  # e.g., 'basic_clock'\n",
    "        plugin_parent = str(self.plugin_path.parent)  # e.g., ../plugins\n",
    "    \n",
    "        if not (self.plugin_path / '__init__.py').is_file():\n",
    "            msg = f\"{plugin_name} - Missing __init__.py. Cannot load plugin as a package.\"\n",
    "            logger.error(msg)\n",
    "            raise PluginError(msg, plugin_name=self.name)\n",
    "    \n",
    "        try:\n",
    "            # Add the parent directory to sys.path for package-level imports\n",
    "            if plugin_parent not in sys.path:\n",
    "                sys.path.insert(0, plugin_parent)\n",
    "    \n",
    "            # Import the plugin module dynamically as a package\n",
    "            module = importlib.import_module(f\"{plugin_name}.plugin\")\n",
    "    \n",
    "            if hasattr(module, 'update_function'):\n",
    "                self.update_function = module.update_function.__get__(self)\n",
    "                logger.info(f\"{plugin_name} - update_function successfully loaded.\")\n",
    "            else:\n",
    "                msg = f\"{plugin_name} - update_function not found in plugin.py\"\n",
    "                logger.error(msg)\n",
    "                raise PluginError(msg, plugin_name=self.name)\n",
    "    \n",
    "        except Exception as e:\n",
    "            msg = f\"{plugin_name} - Failed to load update_function: {e}\"\n",
    "            logger.error(msg)\n",
    "            raise PluginError(msg, plugin_name=self.name)"
   ]
  },
  {
   "cell_type": "code",
   "execution_count": null,
   "id": "bb11dc29-0be3-4b8d-96e2-c2244f4ec37f",
   "metadata": {},
   "outputs": [],
   "source": [
    "\n",
    "    @property\n",
    "    def plugin_path(self):\n",
    "        return self._plugin_path\n",
    "\n",
    "    @plugin_path.setter\n",
    "    def plugin_path(self, value):\n",
    "        if not value:\n",
    "            self._plugin_path = None\n",
    "            return\n",
    "        \n",
    "        if not isinstance(value, (str, Path)):\n",
    "            raise TypeError('Must be of type str or Path')\n",
    "        value = Path(value)\n",
    "        if not value.is_dir():\n",
    "            raise FileError('Plugin directory does not exist')\n",
    "\n",
    "        self._plugin_path = value\n",
    "        self.load_update_function()\n",
    "    \n"
   ]
  }
 ],
 "metadata": {
  "kernelspec": {
   "display_name": "Python (PaperPi-Web-venv-33529be2c6)",
   "language": "python",
   "name": "paperpi-web-venv-33529be2c6"
  },
  "language_info": {
   "codemirror_mode": {
    "name": "ipython",
    "version": 3
   },
   "file_extension": ".py",
   "mimetype": "text/x-python",
   "name": "python",
   "nbconvert_exporter": "python",
   "pygments_lexer": "ipython3",
   "version": "3.11.2"
  }
 },
 "nbformat": 4,
 "nbformat_minor": 5
}
