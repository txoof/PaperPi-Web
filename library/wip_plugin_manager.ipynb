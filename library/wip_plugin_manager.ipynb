{
 "cells": [
  {
   "cell_type": "code",
   "execution_count": 26,
   "id": "4ab273c9-4881-4dd7-9fe2-6c97f5c71bda",
   "metadata": {},
   "outputs": [
    {
     "name": "stdout",
     "output_type": "stream",
     "text": [
      "The autoreload extension is already loaded. To reload it, use:\n",
      "  %reload_ext autoreload\n"
     ]
    }
   ],
   "source": [
    "%load_ext autoreload\n",
    "%autoreload 2"
   ]
  },
  {
   "cell_type": "code",
   "execution_count": 27,
   "id": "3cf3e0fb-e94e-44b3-b3aa-b45561b6e62c",
   "metadata": {},
   "outputs": [],
   "source": [
    "import logging\n",
    "from plugin_manager import PluginManager"
   ]
  },
  {
   "cell_type": "code",
   "execution_count": 28,
   "id": "8ecbf5b0-1847-49b7-a05c-639ae7993e20",
   "metadata": {},
   "outputs": [],
   "source": [
    "logger = logging.getLogger('plugin_manager')\n",
    "logger.setLevel(logging.DEBUG)\n",
    "\n",
    "# Avoid adding multiple handlers by checking if it already exists\n",
    "if not logger.hasHandlers():\n",
    "    handler = logging.StreamHandler()\n",
    "    handler.setFormatter(logging.Formatter('%(levelname)s: [%(funcName)s:%(lineno)d] %(message)s'))\n",
    "    logger.addHandler(handler)\n"
   ]
  },
  {
   "cell_type": "code",
   "execution_count": 36,
   "id": "f806a1bd-22e3-4ab6-a444-6448afdcc3bb",
   "metadata": {},
   "outputs": [
    {
     "name": "stderr",
     "output_type": "stream",
     "text": [
      "DEBUG: [wrapper:64] Validating plugin_path: None (<class 'NoneType'>)\n",
      "DEBUG:plugin_manager:Validating plugin_path: None (<class 'NoneType'>)\n",
      "DEBUG: [wrapper:67] plugin_path set to None\n",
      "DEBUG:plugin_manager:plugin_path set to None\n",
      "DEBUG: [wrapper:64] Validating config_path: None (<class 'NoneType'>)\n",
      "DEBUG:plugin_manager:Validating config_path: None (<class 'NoneType'>)\n",
      "DEBUG: [wrapper:67] config_path set to None\n",
      "DEBUG:plugin_manager:config_path set to None\n",
      "INFO: [__init__:117] PluginManager initialized.\n",
      "INFO:plugin_manager:PluginManager initialized.\n",
      "DEBUG: [wrapper:64] Validating plugin_path: ./plugins/ (<class 'str'>)\n",
      "DEBUG:plugin_manager:Validating plugin_path: ./plugins/ (<class 'str'>)\n",
      "DEBUG: [wrapper:71] Converting plugin_path to Path.\n",
      "DEBUG:plugin_manager:Converting plugin_path to Path.\n",
      "DEBUG: [wrapper:75] plugin_path is valid: plugins\n",
      "DEBUG:plugin_manager:plugin_path is valid: plugins\n",
      "DEBUG: [wrapper:64] Validating config_path: ../config/ (<class 'str'>)\n",
      "DEBUG:plugin_manager:Validating config_path: ../config/ (<class 'str'>)\n",
      "DEBUG: [wrapper:71] Converting config_path to Path.\n",
      "DEBUG:plugin_manager:Converting config_path to Path.\n",
      "DEBUG: [wrapper:75] config_path is valid: ../config\n",
      "DEBUG:plugin_manager:config_path is valid: ../config\n",
      "INFO: [load_schema:276] Schema 'plugin_manager_schema.yaml' loaded successfully.\n",
      "INFO:plugin_manager:Schema 'plugin_manager_schema.yaml' loaded successfully.\n",
      "INFO: [validate_config:319] Configuration validated successfully.\n",
      "INFO:plugin_manager:Configuration validated successfully.\n",
      "INFO: [config:239] Configuration validated and applied.\n",
      "INFO:plugin_manager:Configuration validated and applied.\n"
     ]
    }
   ],
   "source": [
    "m = PluginManager()\n",
    "\n",
    "m.plugin_path = './plugins/'\n",
    "# m.plugin_path = 123\n",
    "m.config_path = '../config/'\n",
    "m.base_schema_file = 'plugin_manager_schema.yaml'\n",
    "# m.main_schema_file = 'plugin_manager_schema.yaml'\n",
    "# m.plugin_schema_file = 'plugin_schema.yaml'\n",
    "\n",
    "config = {\n",
    "    'screen_mode': 'L',\n",
    "    'resolution': (300, 160),\n",
    "}\n",
    "\n",
    "m.config = config"
   ]
  },
  {
   "cell_type": "code",
   "execution_count": 37,
   "id": "d601b3d9-f5ba-4cde-94a9-01b92944b13e",
   "metadata": {},
   "outputs": [
    {
     "data": {
      "text/plain": [
       "{'screen_mode': 'L',\n",
       " 'resolution': (300, 160),\n",
       " 'cache_expire': 2,\n",
       " 'cache_root': '/tmp/PaperPi_cache/',\n",
       " 'max_plugin_failures': 5}"
      ]
     },
     "execution_count": 37,
     "metadata": {},
     "output_type": "execute_result"
    }
   ],
   "source": [
    "m.config"
   ]
  },
  {
   "cell_type": "code",
   "execution_count": null,
   "id": "4f2e23f6-be64-4c21-822d-04de98c9ae8e",
   "metadata": {},
   "outputs": [
    {
     "name": "stderr",
     "output_type": "stream",
     "text": [
      "DEBUG: [wrapper:64] Validating plugin_path: None (<class 'NoneType'>)\n",
      "DEBUG: [wrapper:67] plugin_path set to None\n",
      "DEBUG: [wrapper:64] Validating config_path: None (<class 'NoneType'>)\n",
      "DEBUG: [wrapper:67] config_path set to None\n",
      "INFO: [__init__:224] PluginManager initialized.\n",
      "DEBUG: [wrapper:64] Validating plugin_path: ./plugins/ (<class 'str'>)\n",
      "DEBUG: [wrapper:71] Converting plugin_path to Path.\n",
      "DEBUG: [wrapper:75] plugin_path is valid: plugins\n",
      "DEBUG: [wrapper:64] Validating config_path: ../config/ (<class 'str'>)\n",
      "DEBUG: [wrapper:71] Converting config_path to Path.\n",
      "DEBUG: [wrapper:75] config_path is valid: ../config\n",
      "DEBUG: [configured_plugins:268] 2 plugins configured successfully.\n"
     ]
    }
   ],
   "source": [
    "configured_plugins = [\n",
    "    {'plugin': 'basic_clock',\n",
    "         'base_config': {\n",
    "            'name': 'Basic Clock',\n",
    "            'duration': 100,\n",
    "            # 'refresh_interval': 60,\n",
    "            # 'dormant': False,\n",
    "            'layout_name': 'layout',\n",
    "         }\n",
    "    },\n",
    "    # {'plugin': 'debugging',\n",
    "    #     'base_config': {\n",
    "    #         'name': 'Debugging 50',\n",
    "    #         'dormant': True,\n",
    "    #         'layout': 'layout',\n",
    "    #         'refresh_interval': 2,\n",
    "    #     },\n",
    "    #     'plugin_params': {\n",
    "    #         'title': 'Debugging 50',\n",
    "    #         'crash_rate': 0.9,\n",
    "    #         'high_priority_rate': 0.2,\n",
    "            \n",
    "    #     }\n",
    "    # },\n",
    "    {'plugin': 'word_clock',\n",
    "        'base_config':{\n",
    "            'namex': 'Word Clock',\n",
    "            'duration': 130,\n",
    "            'refresh_interval': 60,\n",
    "            'layout_name': 'layout',\n",
    "        },\n",
    "        'plugin_params': {\n",
    "            'foo': 'bar',\n",
    "            'spam': 7,\n",
    "            'username': 'Monty'}\n",
    "    },\n",
    "    # {'plugin': 'xkcd_comic',\n",
    "    #     'base_config': {\n",
    "    #         'name': 'XKCD',\n",
    "    #         'duration': 200,\n",
    "    #         'refresh_interval': 1800,\n",
    "    #         'dormant': False,\n",
    "    #         'layout': 'layout'\n",
    "    #     },\n",
    "    #     'plugin_params':{\n",
    "    #         'max_x': 800,\n",
    "    #         'max_y': 600,\n",
    "    #         'resize': False,\n",
    "    #         'max_retries': 5\n",
    "    #     }\n",
    "             \n",
    "    # }\n",
    "]"
   ]
  },
  {
   "cell_type": "code",
   "execution_count": 32,
   "id": "09c40ee8-fdb7-4f75-8e13-07ce23d6b7d9",
   "metadata": {},
   "outputs": [
    {
     "data": {
      "text/plain": [
       "[{'plugin': 'basic_clock',\n",
       "  'base_config': {'name': 'Basic Clock',\n",
       "   'duration': 100,\n",
       "   'layout_name': 'layout'}},\n",
       " {'plugin': 'word_clock',\n",
       "  'base_config': {'namex': 'Word Clock',\n",
       "   'duration': 130,\n",
       "   'refresh_interval': 60,\n",
       "   'layout_name': 'layout'},\n",
       "  'plugin_params': {'foo': 'bar', 'spam': 7, 'username': 'Monty'}}]"
      ]
     },
     "execution_count": 32,
     "metadata": {},
     "output_type": "execute_result"
    }
   ],
   "source": [
    "m.configured_plugins"
   ]
  }
 ],
 "metadata": {
  "kernelspec": {
   "display_name": "Python (PaperPi-Web-venv-33529be2c6)",
   "language": "python",
   "name": "paperpi-web-venv-33529be2c6"
  },
  "language_info": {
   "codemirror_mode": {
    "name": "ipython",
    "version": 3
   },
   "file_extension": ".py",
   "mimetype": "text/x-python",
   "name": "python",
   "nbconvert_exporter": "python",
   "pygments_lexer": "ipython3",
   "version": "3.11.2"
  }
 },
 "nbformat": 4,
 "nbformat_minor": 5
}
