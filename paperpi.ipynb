{
 "cells": [
  {
   "cell_type": "code",
   "execution_count": 3,
   "id": "0fe0ff1a",
   "metadata": {
    "lines_to_next_cell": 0
   },
   "outputs": [
    {
     "name": "stdout",
     "output_type": "stream",
     "text": [
      "The autoreload extension is already loaded. To reload it, use:\n",
      "  %reload_ext autoreload\n"
     ]
    }
   ],
   "source": [
    "%load_ext autoreload\n",
    "\n",
    "%autoreload 2"
   ]
  },
  {
   "cell_type": "code",
   "execution_count": 13,
   "id": "e2a314ad-432e-41a0-8800-99f805aaaab6",
   "metadata": {},
   "outputs": [],
   "source": [
    "import sys\n",
    "import argparse\n",
    "import logging\n",
    "import threading\n",
    "import time\n",
    "import signal\n",
    "import os\n",
    "import yaml\n",
    "from pathlib import Path\n",
    "\n",
    "from flask import Flask, jsonify, request\n",
    "\n",
    "import constants\n",
    "\n",
    "# from library.base_plugin import BasePlugin\n",
    "from library.plugin_manager import PluginManager"
   ]
  },
  {
   "cell_type": "code",
   "execution_count": 5,
   "id": "ae525a2e-f0d0-46d6-8074-e6cbaf2c78b1",
   "metadata": {},
   "outputs": [],
   "source": [
    "###############################################################################\n",
    "# LOGGING CONFIGURATION\n",
    "###############################################################################\n",
    "\n",
    "def running_under_systemd():\n",
    "    \"\"\"\n",
    "    A simple heuristic to detect if we're running under systemd.\n",
    "    If these environment variables are present, systemd likely launched us.\n",
    "    \"\"\"\n",
    "    return ('INVOCATION_ID' in os.environ) or ('JOURNAL_STREAM' in os.environ)\n",
    "\n",
    "logger = logging.getLogger(\"PaperPi\")\n",
    "logger.setLevel(logging.INFO)\n",
    "\n",
    "handler = logging.StreamHandler(sys.stdout)\n",
    "formatter = logging.Formatter(fmt=LOG_FORMAT, datefmt=DATE_FORMAT)\n",
    "handler.setFormatter(formatter)\n",
    "logger.addHandler(handler)\n",
    "\n",
    "if running_under_systemd():\n",
    "    # Log to the systemd journal so entries appear in 'journalctl -u <service>'\n",
    "    try:\n",
    "        from systemd.journal import JournalHandler\n",
    "        handler = JournalHandler()\n",
    "    except ImportError:\n",
    "        # If python-systemd is not installed, fallback to console logging\n",
    "        handler = logging.StreamHandler()\n",
    "else:\n",
    "    # If running directly, log to console\n",
    "    handler = logging.StreamHandler()\n",
    "\n",
    "formatter = logging.Formatter(\n",
    "    fmt='%(asctime)s [%(levelname)s] %(message)s',\n",
    "    datefmt='%Y-%m-%d %H:%M:%S'\n",
    ")\n",
    "handler.setFormatter(formatter)\n",
    "logger.addHandler(handler)"
   ]
  },
  {
   "cell_type": "code",
   "execution_count": 6,
   "id": "57e7ecdc-6555-4d8e-a5a7-4034be1c3a9e",
   "metadata": {},
   "outputs": [],
   "source": [
    "###############################################################################\n",
    "# FLASK WEB SERVER\n",
    "###############################################################################\n",
    "\n",
    "app = Flask(__name__)\n",
    "\n",
    "# We'll store a flag indicating the daemon loop is running\n",
    "daemon_running = True\n",
    "# We'll also detect if we're in systemd mode or foreground\n",
    "systemd_mode = running_under_systemd()\n",
    "\n",
    "@app.route('/')\n",
    "def home():\n",
    "    return \"\"\"\n",
    "    <h1>Welcome to PaperPi</h1>\n",
    "    <p>Stub login page or config interface will go here.</p>\n",
    "    <p>Try POSTing to /stop to halt the daemon.</p>\n",
    "    \"\"\"\n",
    "\n",
    "@app.route('/login')\n",
    "def login():\n",
    "    # Stub route for future authentication implementation\n",
    "    return \"Login page (to be implemented).\"\n",
    "\n",
    "@app.route('/stop', methods=['POST'])\n",
    "def stop_route():\n",
    "    \"\"\"\n",
    "    A web endpoint to stop the daemon thread (and Flask).\n",
    "    In systemd mode, the service will stop in the background.\n",
    "    In foreground mode, we print 'stopped: press ctrl+c to exit.'\n",
    "    \"\"\"\n",
    "    global daemon_running\n",
    "    daemon_running = False\n",
    "    logger.info(\"Received /stop request; shutting down daemon and Flask...\")\n",
    "\n",
    "    # Ask Flask's built-in server to shut down\n",
    "    shutdown_server()\n",
    "\n",
    "    if not systemd_mode:\n",
    "        # In foreground mode, let the user know they can Ctrl+C\n",
    "        logger.info(\"stopped: press ctrl+c to exit\")\n",
    "\n",
    "    return jsonify({\"message\": \"Stopping daemon...\"})\n",
    "\n",
    "def shutdown_server():\n",
    "    \"\"\"\n",
    "    Trigger a shutdown of the built-in Werkzeug server.\n",
    "    \"\"\"\n",
    "    func = request.environ.get('werkzeug.server.shutdown')\n",
    "    if func is None:\n",
    "        logger.warning(\"Not running with the Werkzeug Server, can't shut down cleanly.\")\n",
    "    else:\n",
    "        func()"
   ]
  },
  {
   "cell_type": "code",
   "execution_count": 7,
   "id": "1fbd098a-543a-410a-be1e-bdd63eab11f6",
   "metadata": {},
   "outputs": [],
   "source": [
    "###############################################################################\n",
    "# DAEMON LOOP\n",
    "###############################################################################\n",
    "\n",
    "def daemon_loop():\n",
    "    \"\"\"\n",
    "    The background thread that handles e-paper updates.\n",
    "    It runs until daemon_running = False.\n",
    "    \"\"\"\n",
    "    logger.info(\"Daemon loop started.\")\n",
    "    while daemon_running:\n",
    "        logger.info(\"display update goes here\")\n",
    "        logger.info('morestuff')\n",
    "        # In production, you might call a function to update the display here\n",
    "        time.sleep(5)\n",
    "    logger.info(\"Daemon loop stopped.\")"
   ]
  },
  {
   "cell_type": "code",
   "execution_count": 8,
   "id": "43ccad02-4953-4d80-a851-8a94a59b97cc",
   "metadata": {},
   "outputs": [],
   "source": [
    "###############################################################################\n",
    "# SIGNAL HANDLING\n",
    "###############################################################################\n",
    "\n",
    "def handle_signal(signum, frame):\n",
    "    \"\"\"\n",
    "    Handle SIGINT (Ctrl+C) or SIGTERM (systemctl stop) for a graceful shutdown:\n",
    "      - Stop the daemon loop\n",
    "      - Shut down Flask if possible\n",
    "    \"\"\"\n",
    "    logger.info(f\"Signal {signum} received, initiating shutdown.\")\n",
    "    global daemon_running\n",
    "    daemon_running = False\n",
    "\n",
    "    # Attempt to stop the Flask server\n",
    "    # (If running under systemd or a non-Werkzeug server, it might just exit the main thread.)\n",
    "    try:\n",
    "        shutdown_server()\n",
    "    except Exception as e:\n",
    "        logger.debug(f\"Exception while shutting down Flask: {e}\")\n",
    "\n",
    "    # If running in the foreground, user can also press Ctrl+C again, but let's exit gracefully\n",
    "    sys.exit(0)"
   ]
  },
  {
   "cell_type": "code",
   "execution_count": 9,
   "id": "57c37815-3e9a-4f64-ba26-ec426ed9d1d1",
   "metadata": {},
   "outputs": [],
   "source": [
    "###############################################################################\n",
    "# ARGUMENT PARSING\n",
    "###############################################################################\n",
    "def parse_args():\n",
    "    parser = argparse.ArgumentParser(description=\"PaperPi App\")\n",
    "    parser.add_argument(\"-d\", \"--daemon\", action=\"store_true\",\n",
    "                        help=\"Run in daemon mode (use system-wide config)\")\n",
    "    return parser.parse_args()"
   ]
  },
  {
   "cell_type": "code",
   "execution_count": 10,
   "id": "4db5e8e7-d79f-4154-b903-2295656b4b97",
   "metadata": {},
   "outputs": [],
   "source": [
    "###############################################################################\n",
    "# CONFIG LOADING\n",
    "###############################################################################\n",
    "def load_yaml_file(filepath: str) -> dict:\n",
    "    \"\"\"\n",
    "    Safely load a YAML file and return its contents as a dictionary.\n",
    "\n",
    "    Args:\n",
    "        filepath (str): Path to the YAML file.\n",
    "\n",
    "    Returns:\n",
    "        dict: Parsed contents of the YAML file.\n",
    "\n",
    "    Raises:\n",
    "        FileNotFoundError: If the specified file does not exist.\n",
    "        ValueError: If the file cannot be parsed or is not a dictionary.\n",
    "    \"\"\"\n",
    "    path = Path(filepath).resolve()\n",
    "\n",
    "    if not path.is_file():\n",
    "        raise FileNotFoundError(f\"YAML file not found: {path}\")\n",
    "\n",
    "    try:\n",
    "        with open(path, 'r') as f:\n",
    "            data = yaml.safe_load(f)\n",
    "    except yaml.YAMLError as e:\n",
    "        raise ValueError(f\"Failed to parse YAML file '{path}': {e}\")\n",
    "\n",
    "    if not isinstance(data, dict):\n",
    "        raise ValueError(f\"YAML file '{path}' does not contain a valid dictionary.\")\n",
    "\n",
    "    logger.info(f\"YAML file '{path}' loaded successfully.\")\n",
    "    return data"
   ]
  },
  {
   "cell_type": "code",
   "execution_count": 87,
   "id": "41a5f752-a601-4c8f-982a-8842f7af2eb9",
   "metadata": {},
   "outputs": [],
   "source": [
    "def load_validate_config(config_file: Path, schema_file: Path, section_key: str = None):\n",
    "    \"\"\"\n",
    "    Load and validate a configuration file against a schema.\n",
    "\n",
    "    Args:\n",
    "        config_file (Path): Path to the configuration YAML file.\n",
    "        schema_file (Path): Path to the schema YAML file.\n",
    "        section_key (str, optional): Key for a specific section of the config to validate.\n",
    "\n",
    "    Returns:\n",
    "        tuple:\n",
    "            dict: Parsed and validated configuration (empty if errors occur).\n",
    "            dict: Errors categorized into 'fatal', 'recoverable', and 'other'.\n",
    "    \"\"\"\n",
    "    def safe_yaml_load(file_path: Path) -> dict:\n",
    "        try:\n",
    "            return load_yaml_file(file_path)\n",
    "        except Exception as e:\n",
    "            msg = f\"Failed to load {file_path} due error {e}\"\n",
    "            logger.error(msg)\n",
    "            errors.append(msg)\n",
    "            return {}\n",
    "\n",
    "    config = {}\n",
    "    errors = []\n",
    "\n",
    "    logger.info(f\"Loading configuration from: {config_file.resolve()}\")\n",
    "    logger.info(f\"Loading schema from: {schema_file.resolve()}\")\n",
    "\n",
    "    schema_dict = safe_yaml_load(schema_file)\n",
    "    config_dict = safe_yaml_load(config_file)\n",
    "\n",
    "    if not schema_dict or not config_dict:\n",
    "        msg = \"Critical error loading schema or configuration file\"\n",
    "        logger.error(msg)\n",
    "        errors.append(msg)\n",
    "        return config, errors\n",
    "\n",
    "    logger.info(\"Validating configuration against schema...\")\n",
    "\n",
    "    if section_key:\n",
    "        config_section = config_dict.get(section_key)\n",
    "        schema_section = schema_dict.get(section_key)\n",
    "    else:\n",
    "        config_section = config_dict\n",
    "        schema_section = schema_dict\n",
    "\n",
    "    try:\n",
    "        config = PluginManager.validate_config(config_section, schema_section)\n",
    "        logger.info(f\"Configuration validated successfully\")\n",
    "    except Exception as e:\n",
    "        msg = f\"Validation failed {e}\"\n",
    "        errors.append(msg)\n",
    "        return config, errors\n",
    "\n",
    "    return config, errors"
   ]
  },
  {
   "cell_type": "code",
   "execution_count": 88,
   "id": "2d80ab8f-383f-4ac4-a8e0-85f0887bef79",
   "metadata": {},
   "outputs": [
    {
     "name": "stdout",
     "output_type": "stream",
     "text": [
      "2025-01-04 17:18:55 [INFO] Loading configuration from: /home/pi/src/PaperPi-Web/~/.config/com.txoof.paperpi/paperpi_config.yaml\n"
     ]
    },
    {
     "name": "stderr",
     "output_type": "stream",
     "text": [
      "2025-01-04 17:18:55 [INFO] Loading configuration from: /home/pi/src/PaperPi-Web/~/.config/com.txoof.paperpi/paperpi_config.yaml\n"
     ]
    },
    {
     "name": "stdout",
     "output_type": "stream",
     "text": [
      "2025-01-04 17:18:55 [INFO] Loading schema from: /home/pi/src/PaperPi-Web/config/paperpi_config_schema.yaml\n"
     ]
    },
    {
     "name": "stderr",
     "output_type": "stream",
     "text": [
      "2025-01-04 17:18:55 [INFO] Loading schema from: /home/pi/src/PaperPi-Web/config/paperpi_config_schema.yaml\n"
     ]
    },
    {
     "name": "stdout",
     "output_type": "stream",
     "text": [
      "2025-01-04 17:18:55 [INFO] Reading yaml file at /home/pi/src/PaperPi-Web/config/paperpi_config_schema.yaml\n"
     ]
    },
    {
     "name": "stderr",
     "output_type": "stream",
     "text": [
      "2025-01-04 17:18:55 [INFO] Reading yaml file at /home/pi/src/PaperPi-Web/config/paperpi_config_schema.yaml\n"
     ]
    },
    {
     "name": "stdout",
     "output_type": "stream",
     "text": [
      "2025-01-04 17:18:55 [INFO] YAML file '/home/pi/src/PaperPi-Web/config/paperpi_config_schema.yaml' loaded successfully.\n"
     ]
    },
    {
     "name": "stderr",
     "output_type": "stream",
     "text": [
      "2025-01-04 17:18:55 [INFO] YAML file '/home/pi/src/PaperPi-Web/config/paperpi_config_schema.yaml' loaded successfully.\n"
     ]
    },
    {
     "name": "stdout",
     "output_type": "stream",
     "text": [
      "2025-01-04 17:18:55 [INFO] Reading yaml file at /home/pi/.config/com.txoof.paperpi/paperpi_config.yaml\n"
     ]
    },
    {
     "name": "stderr",
     "output_type": "stream",
     "text": [
      "2025-01-04 17:18:55 [INFO] Reading yaml file at /home/pi/.config/com.txoof.paperpi/paperpi_config.yaml\n"
     ]
    },
    {
     "name": "stdout",
     "output_type": "stream",
     "text": [
      "2025-01-04 17:18:55 [INFO] YAML file '/home/pi/.config/com.txoof.paperpi/paperpi_config.yaml' loaded successfully.\n"
     ]
    },
    {
     "name": "stderr",
     "output_type": "stream",
     "text": [
      "2025-01-04 17:18:55 [INFO] YAML file '/home/pi/.config/com.txoof.paperpi/paperpi_config.yaml' loaded successfully.\n"
     ]
    },
    {
     "name": "stdout",
     "output_type": "stream",
     "text": [
      "2025-01-04 17:18:55 [INFO] Validating configuration against schema...\n"
     ]
    },
    {
     "name": "stderr",
     "output_type": "stream",
     "text": [
      "2025-01-04 17:18:55 [INFO] Validating configuration against schema...\n"
     ]
    },
    {
     "name": "stdout",
     "output_type": "stream",
     "text": [
      "2025-01-04 17:18:55 [INFO] Configuration validated successfully\n"
     ]
    },
    {
     "name": "stderr",
     "output_type": "stream",
     "text": [
      "2025-01-04 17:18:55 [INFO] Configuration validated successfully\n"
     ]
    },
    {
     "data": {
      "text/plain": [
       "({'port': 2693,\n",
       "  'display_type': 'HD',\n",
       "  'vcom': -1.9,\n",
       "  'max_refresh': 4,\n",
       "  'log_level': 'WARNING',\n",
       "  'splash': True,\n",
       "  'rotation': 0,\n",
       "  'mirror': False,\n",
       "  'color': False,\n",
       "  'no_wipe': False,\n",
       "  'plugin_timeout': 30,\n",
       "  'max_plugin_failures': 5},\n",
       " [])"
      ]
     },
     "execution_count": 88,
     "metadata": {},
     "output_type": "execute_result"
    }
   ],
   "source": [
    "load_validate_config(constants.CONFIG_FILE_USER, constants.APPLICATION_SCHEMA, constants.APPLICATION_SCHEMA_KEY)"
   ]
  },
  {
   "cell_type": "code",
   "execution_count": null,
   "id": "a822c79d-29b5-4bbc-b678-49a2905283c3",
   "metadata": {},
   "outputs": [],
   "source": []
  },
  {
   "cell_type": "code",
   "execution_count": 81,
   "id": "3d24f360-8be8-4985-b070-d17638f06951",
   "metadata": {},
   "outputs": [],
   "source": [
    "def load_application_config(daemon_mode: bool = False) -> tuple:\n",
    "    \"\"\"\n",
    "    Load and validate application configuration and merge with default config for\n",
    "    missing values\n",
    "\n",
    "    Args:\n",
    "        daemon_mode (bool): Select system config when true, select user config when false\n",
    "        \n",
    "    Returns:\n",
    "        dict: Parsed and validated configuration\n",
    "    \"\"\"\n",
    "    config = {}\n",
    "    errors = {'fatal': [],\n",
    "              'recoverable': [],\n",
    "              'other': [],}\n",
    "    if daemon_mode:\n",
    "        application_config = constants.CONFIG_FILE_DAEMON\n",
    "    else:\n",
    "        application_config = constants.CONFIG_FILE_USER\n",
    "\n",
    "    logger.info(f\"Application mode: {'Daemon' if daemon_mode else 'User'}. Loading configuration from {application_config}\")\n",
    "    try:\n",
    "        schema_dict = load_yaml_file(constants.APPLICATION_SCHEMA)\n",
    "    except Exception as e:\n",
    "        msg = f\"Failed to load schema from {constants.APPLICATION_SCHEMA} due to errors: {e}\"\n",
    "        logger.error(msg)\n",
    "        errors['fatal'].append(msg)\n",
    "        schema_dict = {}\n",
    "        \n",
    "    try:\n",
    "        config_dict = load_yaml_file(application_config)\n",
    "    except Exception as e:\n",
    "        msg = f\"Failed to load configuraiton from {application_config} due to errors: {e}\"\n",
    "        logger.error(msg)\n",
    "        errors['fatal'].append(msg)\n",
    "        config_dict = {}\n",
    "\n",
    "    logger.info(\"Validating application configuration against schema\")\n",
    "\n",
    "    # return config_dict, schema_dict\n",
    "    if len(errors.get('fatal', 0)) == 0:\n",
    "        try:\n",
    "            config = PluginManager.validate_config(config_dict.get(constants.APPLICATION_SCHEMA_KEY), \n",
    "                                                             schema_dict.get(constants.APPLICATION_SCHEMA_KEY))\n",
    "        except ValueError as e:\n",
    "            msg = f\"Failed to validate configuration due \"\n",
    "            validated_config = {}\n",
    "    else:\n",
    "        logger.warning(f\"Skipping validation due to previous fatal errors\")            \n",
    "        \n",
    "            \n",
    "    return config, errors"
   ]
  },
  {
   "cell_type": "code",
   "execution_count": null,
   "id": "1c7b9f79-5b50-4ca2-a978-5491b969d747",
   "metadata": {},
   "outputs": [],
   "source": [
    "def load_plugin_config(daemon_mode: bool = False ) -> tuple:"
   ]
  },
  {
   "cell_type": "code",
   "execution_count": null,
   "id": "811de319-3087-452f-b7f6-62aaf60087c9",
   "metadata": {},
   "outputs": [],
   "source": [
    "###############################################################################\n",
    "# MAIN ENTRY POINT\n",
    "###############################################################################\n",
    "\n",
    "def main():\n",
    "    # Register our signal handlers\n",
    "    signal.signal(signal.SIGINT, handle_signal)\n",
    "    signal.signal(signal.SIGTERM, handle_signal)\n",
    "\n",
    "    # load applicaiton configuration\n",
    "    app_config, errors = load_application_config()\n",
    "\n",
    "    if len(errors.get('fatal'), 0) > 0:\n",
    "        logger.error(\"Fatal errors occured during configuration load:\")\n",
    "        for e in errors:\n",
    "            logger.error(f\"{e}\")\n",
    "            print(e)\n",
    "\n",
    "    web_port = app_config.get('port', constants.PORT)\n",
    "    log_level = app_config.get('log_level', logging.WARNING)\n",
    "\n",
    "    logger.setLevel(log_level)\n",
    "\n",
    "    \n",
    "    \n",
    "    # # Start the daemon loop in a background thread\n",
    "    # thread = threading.Thread(target=daemon_loop, daemon=True)\n",
    "    # thread.start()\n",
    "\n",
    "    # # Start Flask in the main thread (blocking call)\n",
    "    # logger.info(f\"Starting Flask on port {web_port}...\")\n",
    "    # # In production behind systemd, you might switch to gunicorn or uwsgi; for dev, this is fine.\n",
    "    # app.run(host=\"0.0.0.0\", port=PORT, debug=False)"
   ]
  },
  {
   "cell_type": "code",
   "execution_count": null,
   "id": "64e09c19-908e-46b8-9384-54b36aa732ec",
   "metadata": {},
   "outputs": [],
   "source": [
    "if __name__ == \"__main__\":\n",
    "    main()"
   ]
  },
  {
   "cell_type": "code",
   "execution_count": 59,
   "id": "29bb39fd-4142-4599-9654-65a885b4668e",
   "metadata": {},
   "outputs": [],
   "source": [
    "def load_yaml_file(filepath: str) -> dict:\n",
    "    \"\"\"\n",
    "    Safely load a YAML file and return its contents as a dictionary.\n",
    "\n",
    "    Args:\n",
    "        filepath (str): Path to the YAML file.\n",
    "\n",
    "    Returns:\n",
    "        dict: Parsed contents of the YAML file.\n",
    "\n",
    "    Raises:\n",
    "        FileNotFoundError: If the specified file does not exist.\n",
    "        ValueError: If the file cannot be parsed or is not a dictionary.\n",
    "    \"\"\"\n",
    "    path = Path(filepath).expanduser().resolve()\n",
    "\n",
    "    logger.info(F\"Reading yaml file at {path}\")\n",
    "\n",
    "    if not path.is_file():\n",
    "        raise FileNotFoundError(f\"YAML file not found: {path}\")\n",
    "\n",
    "    try:\n",
    "        with open(path, 'r') as f:\n",
    "            data = yaml.safe_load(f)\n",
    "    except yaml.YAMLError as e:\n",
    "        raise ValueError(f\"Failed to parse YAML file '{path}': {e}\")\n",
    "\n",
    "    if not isinstance(data, dict):\n",
    "        raise ValueError(f\"YAML file '{path}' does not contain a valid dictionary.\")\n",
    "\n",
    "    logger.info(f\"YAML file '{path}' loaded successfully.\")\n",
    "    return data"
   ]
  },
  {
   "cell_type": "code",
   "execution_count": 64,
   "id": "b72c75bc-5c4e-4e33-9eba-248855c64aca",
   "metadata": {},
   "outputs": [
    {
     "name": "stdout",
     "output_type": "stream",
     "text": [
      "2025-01-04 16:47:20 [INFO] Reading yaml file at /home/pi/src/PaperPi-Web/config/paperpi_config_schema.yaml\n"
     ]
    },
    {
     "name": "stderr",
     "output_type": "stream",
     "text": [
      "2025-01-04 16:47:20 [INFO] Reading yaml file at /home/pi/src/PaperPi-Web/config/paperpi_config_schema.yaml\n"
     ]
    },
    {
     "name": "stdout",
     "output_type": "stream",
     "text": [
      "2025-01-04 16:47:21 [INFO] YAML file '/home/pi/src/PaperPi-Web/config/paperpi_config_schema.yaml' loaded successfully.\n"
     ]
    },
    {
     "name": "stderr",
     "output_type": "stream",
     "text": [
      "2025-01-04 16:47:21 [INFO] YAML file '/home/pi/src/PaperPi-Web/config/paperpi_config_schema.yaml' loaded successfully.\n"
     ]
    },
    {
     "name": "stdout",
     "output_type": "stream",
     "text": [
      "2025-01-04 16:47:21 [INFO] Reading yaml file at /home/pi/.config/com.txoof.paperpi/paperpi_config.yaml\n"
     ]
    },
    {
     "name": "stderr",
     "output_type": "stream",
     "text": [
      "2025-01-04 16:47:21 [INFO] Reading yaml file at /home/pi/.config/com.txoof.paperpi/paperpi_config.yaml\n"
     ]
    },
    {
     "name": "stdout",
     "output_type": "stream",
     "text": [
      "2025-01-04 16:47:21 [INFO] YAML file '/home/pi/.config/com.txoof.paperpi/paperpi_config.yaml' loaded successfully.\n"
     ]
    },
    {
     "name": "stderr",
     "output_type": "stream",
     "text": [
      "2025-01-04 16:47:21 [INFO] YAML file '/home/pi/.config/com.txoof.paperpi/paperpi_config.yaml' loaded successfully.\n"
     ]
    }
   ],
   "source": [
    "s = load_yaml_file('./config/paperpi_config_schema.yaml')\n",
    "c = load_yaml_file('~/.config/com.txoof.paperpi/paperpi_config.yaml')"
   ]
  },
  {
   "cell_type": "code",
   "execution_count": 68,
   "id": "47747a59-e047-43b5-9896-e6ce221032da",
   "metadata": {},
   "outputs": [
    {
     "data": {
      "text/plain": [
       "{'display_type': {'type': 'str',\n",
       "  'default': 'Unset',\n",
       "  'required': True,\n",
       "  'description': 'Type of display to use use. Use \"HD\" for all IT8951 based screens'},\n",
       " 'vcom': {'type': 'float',\n",
       "  'default': -1.0,\n",
       "  'range': [-5.0, 0.0],\n",
       "  'description': 'Required HD screen VCOM value (see ribbon cable)'},\n",
       " 'max_refresh': {'type': 'int,',\n",
       "  'default': '4,',\n",
       "  'range': [0, 10],\n",
       "  'description': 'Maximum partial display refreshes prior to a full screen wipe for HD displays'},\n",
       " 'log_level': {'type': 'str',\n",
       "  'default': 'WARNING',\n",
       "  'allowed': ['DEBUG', 'INFO', 'WARNING', 'ERROR', 'CRITICAL'],\n",
       "  'description': 'Logging Level'},\n",
       " 'splash': {'type': 'bool',\n",
       "  'default': True,\n",
       "  'description': 'Show splash screen on startup'},\n",
       " 'rotation': {'type': 'int',\n",
       "  'default': 0,\n",
       "  'allowed': [0, 90, 180, -90],\n",
       "  'description': 'Rotate the display to portrat, landscape'},\n",
       " 'mirror': {'type': 'bool',\n",
       "  'default': False,\n",
       "  'description': 'Some panels display content \"mirrored\" use this to flip the images'},\n",
       " 'color': {'type': 'bool',\n",
       "  'default': False,\n",
       "  'description': 'Use the color features of RGB screens'},\n",
       " 'no_wipe': {'type': 'bool',\n",
       "  'default': True,\n",
       "  'description': 'Do not wipe the screen on shutdown; leave the last image on the screen'},\n",
       " 'plugin_timeout': {'type': 'int',\n",
       "  'default': 30,\n",
       "  'range': [0, 600],\n",
       "  'description': 'Time in seconds before skipping a plugin that may be hung or unresponsive'},\n",
       " 'max_plugin_failures': {'type': 'int',\n",
       "  'default': 5,\n",
       "  'description': 'Number of consecutive failures before a plugin is removed from the display loop. Use 0 for never.'}}"
      ]
     },
     "execution_count": 68,
     "metadata": {},
     "output_type": "execute_result"
    }
   ],
   "source": [
    "s['main']"
   ]
  },
  {
   "cell_type": "code",
   "execution_count": 40,
   "id": "f7e18cfc-fc78-4194-af9a-3067b020f4ca",
   "metadata": {},
   "outputs": [],
   "source": [
    "c['main']['vcom'] = -1.90"
   ]
  },
  {
   "cell_type": "code",
   "execution_count": 69,
   "id": "f18e6e99-ecbe-4cd1-9d5b-75cb59554de0",
   "metadata": {},
   "outputs": [
    {
     "name": "stdout",
     "output_type": "stream",
     "text": [
      "2025-01-04 16:47:44 [INFO] Configuration validated successfully.\n"
     ]
    },
    {
     "name": "stderr",
     "output_type": "stream",
     "text": [
      "2025-01-04 16:47:44 [INFO] Configuration validated successfully.\n"
     ]
    },
    {
     "data": {
      "text/plain": [
       "{'display_type': 'HD',\n",
       " 'vcom': 0.0,\n",
       " 'max_refresh': 4,\n",
       " 'log_level': 'WARNING',\n",
       " 'splash': True,\n",
       " 'rotation': 0,\n",
       " 'mirror': False,\n",
       " 'color': False,\n",
       " 'no_wipe': False,\n",
       " 'plugin_timeout': 30,\n",
       " 'max_plugin_failures': 5}"
      ]
     },
     "execution_count": 69,
     "metadata": {},
     "output_type": "execute_result"
    }
   ],
   "source": [
    "vc = validate_config(c['main'], s['main'])\n",
    "vc"
   ]
  },
  {
   "cell_type": "code",
   "execution_count": 25,
   "id": "af1d60b4-ba48-4230-b69f-9e8f0f519924",
   "metadata": {},
   "outputs": [
    {
     "data": {
      "text/plain": [
       "{'main': {'display_type': {'type': 'str',\n",
       "   'default': 'Unset',\n",
       "   'required': True,\n",
       "   'description': 'Type of display to use use. Use \"HD\" for all IT8951 based screens'},\n",
       "  'vcom': {'type': 'float',\n",
       "   'default': -1.0,\n",
       "   'range': [-5.0, 0.0],\n",
       "   'description': 'Required HD screen VCOM value (see ribbon cable)'},\n",
       "  'max_refresh': {'type': 'int,',\n",
       "   'default': '4,',\n",
       "   'range': [0, 10],\n",
       "   'description': 'Maximum partial display refreshes prior to a full screen wipe for HD displays'},\n",
       "  'log_level': {'type': 'str',\n",
       "   'default': 'WARNING',\n",
       "   'allowed': ['DEBUG', 'INFO', 'WARNING', 'ERROR', 'CRITICAL'],\n",
       "   'description': 'Logging Level'},\n",
       "  'splash': {'type': 'bool',\n",
       "   'default': True,\n",
       "   'description': 'Show splash screen on startup'},\n",
       "  'rotation': {'type': 'int',\n",
       "   'default': 0,\n",
       "   'allowed': [0, 90, 180, -90],\n",
       "   'description': 'Rotate the display to portrat, landscape'},\n",
       "  'mirror': {'type': 'bool',\n",
       "   'default': False,\n",
       "   'description': 'Some panels display content \"mirrored\" use this to flip the images'},\n",
       "  'color': {'type': 'bool',\n",
       "   'default': False,\n",
       "   'description': 'Use the color features of RGB screens'},\n",
       "  'no_wipe': {'type': 'bool',\n",
       "   'default': True,\n",
       "   'description': 'Do not wipe the screen on shutdown; leave the last image on the screen'},\n",
       "  'plugin_timeout': {'type': 'int',\n",
       "   'default': 30,\n",
       "   'range': [0, 600],\n",
       "   'description': 'Time in seconds before skipping a plugin that may be hung or unresponsive'},\n",
       "  'max_plugin_failures': {'type': 'int',\n",
       "   'default': 5,\n",
       "   'description': 'Number of consecutive failures before a plugin is removed from the display loop. Use 0 for never.'}}}"
      ]
     },
     "execution_count": 25,
     "metadata": {},
     "output_type": "execute_result"
    }
   ],
   "source": []
  }
 ],
 "metadata": {
  "jupytext": {
   "executable": "/usr/bin/env python"
  },
  "kernelspec": {
   "display_name": "Python (PaperPi-Web-venv-33529be2c6)",
   "language": "python",
   "name": "paperpi-web-venv-33529be2c6"
  },
  "language_info": {
   "codemirror_mode": {
    "name": "ipython",
    "version": 3
   },
   "file_extension": ".py",
   "mimetype": "text/x-python",
   "name": "python",
   "nbconvert_exporter": "python",
   "pygments_lexer": "ipython3",
   "version": "3.11.2"
  }
 },
 "nbformat": 4,
 "nbformat_minor": 5
}
