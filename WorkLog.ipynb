{
 "cells": [
  {
   "cell_type": "markdown",
   "id": "a5995513-6578-474a-874b-9e836c3bfe98",
   "metadata": {},
   "source": [
    "# Work Log and Journal\n",
    "\n",
    "Add new entries to the top; read in reverse chronological order\n",
    "\n",
    "Entry format: \n",
    "\n",
    "**DD Month YY - short title**\n",
    "\n",
    "Short description of work\n",
    "\n",
    "Merges, squashes, etc. "
   ]
  },
  {
   "cell_type": "markdown",
   "id": "946373d8-fe59-48df-a924-a4479e0bba30",
   "metadata": {},
   "source": [
    "## How to get started again after a while off\n",
    "\n",
    "- Start virtual env: `source ./venv_activate`\n",
    "- Launch application from project root with: `python -m paperpi`\n",
    "- Start uvicorn web interface: `python -m uvicorn paperpi.web.app:app --reload --host 0.0.0.0`"
   ]
  },
  {
   "cell_type": "markdown",
   "id": "50040a5e",
   "metadata": {},
   "source": [
    "## 15 August 2025\n",
    "\n",
    "Plan: Refactor daemon and web to make it easier to add additional routes in the future; focus on reusable code and generic building blocks and templates.\n",
    "\n",
    "Done:\n",
    "\n",
    "- refactored daemon to use simpler routes\n",
    "- refactored web routes for displaying and writing application configuration\n",
    "- squashed web_config and merged into main\n"
   ]
  },
  {
   "cell_type": "markdown",
   "id": "8ef1993f",
   "metadata": {},
   "source": [
    "## 14 August 2025\n",
    "\n",
    "Plan: pull display_type from epdlib and populate schema with this\n",
    "\n",
    "- use epdlib to populate schema with allowed display types\n",
    "- fix type coersion\n",
    "- add write to \n"
   ]
  },
  {
   "cell_type": "markdown",
   "id": "3a1625b7-3039-4f00-bf8b-1d270368631b",
   "metadata": {},
   "source": [
    "## 13 August 2025\n",
    "\n",
    "* fix issues in relative imports in `__init__`, `__main__` and `paperpi.py`\n",
    "* create `config_routes.handle_check_config` to validate submitted dictionaries that include schema and configurations\n",
    "*  Add do_POST method to `http_handler` to accept JSON input\n",
    "* add daemon route to show available schema files at `/schema/` and contents of schema files by name at `/schema/schema_name`\n",
    "* update web route `config/` submission to get config from daemon/schema and check values, highlight problem areas\n",
    "* update form submission html to make sure that false/empty form values are always included\n",
    "\n",
    "\n",
    "\n"
   ]
  },
  {
   "cell_type": "markdown",
   "id": "124d2dd1",
   "metadata": {},
   "source": []
  },
  {
   "cell_type": "code",
   "execution_count": null,
   "id": "ac08ab0d",
   "metadata": {},
   "outputs": [],
   "source": []
  },
  {
   "cell_type": "markdown",
   "id": "95b9a2ec-19cb-41b8-ba88-15f61bd4f51c",
   "metadata": {},
   "source": [
    "## 1 May\n",
    "\n",
    "- Refactor of daemon\n",
    "    - [x] return status\n",
    "    - [x] return config (dynamic)\n",
    "    - [ ] return schema (dynamic?)\n",
    "    - [ ] validate submitted config\n",
    "\n",
    "- Web Front End\n",
    "    - [ ] use new config and schema api to show configuration\n",
    "    - [ ] use new validate routines\n",
    "    - [ ] "
   ]
  },
  {
   "cell_type": "code",
   "execution_count": null,
   "id": "5996f68b-e9df-4860-8f94-06878fa609fb",
   "metadata": {},
   "outputs": [],
   "source": []
  },
  {
   "cell_type": "markdown",
   "id": "db837b73-e265-4bb0-838a-6d5acf2527f9",
   "metadata": {},
   "source": [
    "## 30 April\n",
    "\n",
    "### WIP: br web_config\n",
    "- [x] Develop web pages that allow editing using the values from the YAML schema\n",
    "- [x] Total refactor of daemon.py - it's a mess\n",
    "    - [ ] work on loading and reloading of daemon data\n",
    "- [ ] Refactor API to deliver config/schema and schema/app and schema/basic_plugin\n",
    "- [ ] Refactor config.py and config.html to use the new schema deliver systems\n",
    "- [ ] Validate submitted values against schema\n",
    "    - [ ] reject invalid config & highlight any sections that are incorrect\n",
    "    - [ ] save when good"
   ]
  },
  {
   "cell_type": "markdown",
   "id": "9df838b7-16e9-45bc-aa24-18f3e11a6da2",
   "metadata": {},
   "source": [
    "## 29 April\n",
    "\n",
    "### WIP: br web_config\n",
    "\n",
    "Create FastAPI interface for editing configuration files and validating before saving\n",
    "\n",
    "- [x] Configuration validates against known screen types dynamically based on `epdlib.Screen.list_compatible`\n",
    "- [ ] Develop web pages that allow editing using the values from the YAML schema\n",
    "- [ ] Validate submitted values against schema\n",
    "    - [ ] reject invalid config & highlight any sections that are incorrect\n",
    "    - [ ] save when good"
   ]
  },
  {
   "cell_type": "markdown",
   "id": "6a442255-51e0-45cd-873d-38d326b63c08",
   "metadata": {},
   "source": [
    "## 27 April\n",
    "\n",
    "- WIP: make sure that PluginManager class is capable of returning necessary JSON data for plugins\n",
    "    - [x] Updated docstrings, added example code\n",
    "    - [ ] Need to tidy up test code and commit changes\n",
    "- WIP: configure plugin manager in `daemon.py`\n",
    "    - [x] Build routes into API for displaying plugin information -- need to make sure it is all json safe\n",
    "    - [x] Add basic PluginManager configuration in daemon.py\n",
    "    - [x] Add static resolution and color modes for testing\n",
    "    - [x] Load and activate plugins\n",
    "\n",
    "- Started to work with epdlib.Screen to list compatible modules and try to display an image on screen. Something is broken with the import "
   ]
  },
  {
   "cell_type": "markdown",
   "id": "f0b4df20-c379-4a89-9794-41c763596f7a",
   "metadata": {},
   "source": [
    "## 26 Apirl\n",
    "\n",
    "- moved all loading of configuration information into daemon; this allows a `/reload` route that allows reloading the configuration files when changes are made.\n",
    "- update daemon API to add routes for viewing configuration\n",
    "- consolodate web interface configuration page into single page for viewing/editing configuration\n",
    "- create settings object for fastapi server for managing settings across routes\n"
   ]
  },
  {
   "cell_type": "markdown",
   "id": "535d24e6-64bd-4f32-bde3-4b3b21034465",
   "metadata": {},
   "source": [
    "## 23 April '25\n",
    "\n",
    "- shifted focus to creating an HTTP socket run by the daemon for accessing program state, configuration, etc.\n",
    "    - created new branch daemon_api\n",
    "- Daemon launches with running loop and stays active until paperpi stops; serves current configuration\n",
    "- Add command to shutdown\n",
    "- Restructured into ./paperpi/ sub directory\n",
    "- Add daemon methods for returning json formatted configuration\n",
    "- Add web pages for displaying configuration and editing configuration (not yet connected)"
   ]
  },
  {
   "cell_type": "markdown",
   "id": "af7ec4fa-8971-4673-90c8-8aa5f3e1d3fd",
   "metadata": {},
   "source": [
    "## 22 April '25\n",
    "\n",
    "- refactored everything to be more modular and merged a `refactor` branch in\n",
    "- created `./web/` structure and moved fastapi app into structure\n",
    "- Goal: create a web app that can be launched from the main application and receives data from it and can interface with it.\n",
    "    - short term: show configuration on web interface screen\n",
    "    - start/stop uvicorn using a daemon process that runs externally from the main process (?)\n",
    "- Add startup of web app from within main: There's something wrong with the argv that are being processed, however.\n",
    "\n",
    "### Next Time...\n",
    "\n",
    "- [ ] Get the daemon to start and start the web service\n",
    "- [ ] Get the web service to show the current configuration\n",
    "    - [ ] Allow editing of configuration from web\n",
    "- [ ] Add appropriate waveshare deps\n",
    "- [ ] Read configuration and configure display\n",
    "- [ ] Cycle plugins to screen\n",
    "- [ ] Try activating and deactivating plugins while running (not quite ready for this?)\n",
    "- [ ] "
   ]
  },
  {
   "cell_type": "markdown",
   "id": "dd12902d-52a2-412d-85a4-65bf32927f43",
   "metadata": {},
   "source": [
    "## 21 April '25\n",
    "\n",
    "- [x] Connect low-resolution display\n",
    "- [x] Add waveshare libraries\n",
    "\n",
    "### Next Time...\n",
    "\n",
    "- [ ] Add appropriate waveshare deps\n",
    "- [ ] Read configuration and configure display\n",
    "- [ ] Cycle plugins to screen\n",
    "- [ ] Try activating and deactivating plugins while running (not quite ready for this?)\n",
    "- [ ] "
   ]
  },
  {
   "cell_type": "markdown",
   "id": "86f79a52-c559-4059-a6c9-ff2ef14dccec",
   "metadata": {},
   "source": [
    "## 13 Apirl '25 - refactor_config\n",
    "\n",
    "- [x] Move all the reading, writing and validation functions in to `library.config_utils`.\n",
    "- [x] successfully run main and load module\n",
    "\n",
    "### Next Time...\n",
    "\n",
    "- [ ] Connect low-resolution display\n",
    "- [ ] Add appropriate waveshare deps\n",
    "- [ ] Read configuration and configure display\n",
    "- [ ] Cycle plugins to screen\n",
    "- [ ] Try activating and deactivating plugins while running (not quite ready for this?)\n",
    "- [ ] "
   ]
  },
  {
   "cell_type": "markdown",
   "id": "b961ab22-04bf-407f-8d78-0dc20d918504",
   "metadata": {},
   "source": [
    "## 13 April '25 - Getting back up to speed\n",
    "\n",
    "Figuring out how the pieces fit together. \n",
    "\n",
    "### paperpi.py \n",
    "\n",
    "Main program, loads & validates configuration\n",
    "\n",
    "### paperpi_daemon.py\n",
    "\n",
    "Handles daemon related tasks, sets pid, restarts/stops (???)\n",
    "\n",
    "### paperpi_web.py\n",
    "\n",
    "??? - Leftovers from testing?\n",
    "\n",
    "### wip-plugin_manger.py\n",
    "\n",
    "??? Leftovers from testing - looks like I moved this into `./library/plugin_manager.py`. It likely should be removed.\n",
    "\n",
    "### ./library/base_plugin.py\n",
    "\n",
    "Parent class for plugins \n",
    "\n",
    "### ./library/exceptions.py\n",
    "\n",
    "Exception classes\n",
    "\n",
    "### ./library/plugin_manager.py\n",
    "\n",
    "Class that manages life cycle of plugins\n",
    "\n",
    "\n",
    "## NEXT STEPS:\n",
    "\n",
    "### Basic execution\n",
    "\n",
    "Try to get `paperpi.main` to execute and see where we are.\n",
    "\n",
    "`paperpi.load_validate_config` looks like it should return a dictionary of all the errors it encountered organized by type. Right now it returns a list of errors. Also, there seems to be a problem with reading hte configuration overall.\n",
    "\n",
    "`PluginManager` confusingly validates configurations; move this into a library of some kind and then use in the plugin manager."
   ]
  },
  {
   "cell_type": "code",
   "execution_count": null,
   "id": "12e4eea5-9e42-4da5-9fd0-c001c872959e",
   "metadata": {},
   "outputs": [],
   "source": []
  }
 ],
 "metadata": {
  "kernelspec": {
   "display_name": "Python (PaperPi-Web-venv-33529be2c6)",
   "language": "python",
   "name": "paperpi-web-venv-33529be2c6"
  },
  "language_info": {
   "codemirror_mode": {
    "name": "ipython",
    "version": 3
   },
   "file_extension": ".py",
   "mimetype": "text/x-python",
   "name": "python",
   "nbconvert_exporter": "python",
   "pygments_lexer": "ipython3",
   "version": "3.11.2"
  }
 },
 "nbformat": 4,
 "nbformat_minor": 5
}
