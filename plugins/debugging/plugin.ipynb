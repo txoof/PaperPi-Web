{
 "cells": [
  {
   "cell_type": "code",
   "execution_count": 1,
   "metadata": {},
   "outputs": [],
   "source": [
    "%load_ext autoreload\n",
    "%autoreload 2"
   ]
  },
  {
   "cell_type": "code",
   "execution_count": 2,
   "metadata": {},
   "outputs": [],
   "source": [
    "import logging\n",
    "from datetime import datetime\n",
    "from time import time\n",
    "import random\n",
    "from pathlib import Path"
   ]
  },
  {
   "cell_type": "code",
   "execution_count": 3,
   "metadata": {
    "lines_to_next_cell": 2
   },
   "outputs": [],
   "source": [
    "# two different import modes for development or distribution\n",
    "try:\n",
    "    # import from other modules above this level\n",
    "    from . import layout\n",
    "    from . import constants\n",
    "except ImportError:\n",
    "    import constants\n",
    "    # development in jupyter notebook\n",
    "    import layout"
   ]
  },
  {
   "cell_type": "code",
   "execution_count": 4,
   "metadata": {},
   "outputs": [],
   "source": [
    "# import sys\n",
    "# # fugly hack for making the library module available to the plugins\n",
    "# sys.path.append(layout.dir_path+'/../..')"
   ]
  },
  {
   "cell_type": "code",
   "execution_count": 5,
   "metadata": {},
   "outputs": [],
   "source": [
    "logger = logging.getLogger(__name__)"
   ]
  },
  {
   "cell_type": "code",
   "execution_count": 6,
   "metadata": {},
   "outputs": [],
   "source": [
    "def remove_non_alphanumeric(s):\n",
    "    # Using list comprehension to filter out non-alphanumeric characters\n",
    "    filtered_string = ''.join([char for char in s if char.isalnum()])\n",
    "    return filtered_string"
   ]
  },
  {
   "cell_type": "code",
   "execution_count": 41,
   "metadata": {
    "lines_to_next_cell": 2
   },
   "outputs": [],
   "source": [
    "def update_function(self, title=None, crash_rate=None, max_priority_rate=None, *args, **kwargs):\n",
    "    '''update function for debugging plugin provides title, time, crash rate\n",
    "    \n",
    "    This plugin shows minimal data and is designed to throw exceptions to test other functionality. \n",
    "    The plugin will deliberately and randomly throw exceptions at the rate specified in the configuration. \n",
    "    When an exception is not thrown, the plugin will randomly change its priority to the max set in the \n",
    "    configuration. Set the rate at which the plugin should jump to the higher priority status in the configuration.\n",
    "    \n",
    "    \n",
    "    Args:\n",
    "        self(`namespace`)\n",
    "        title(`str`): title of plugin to display\n",
    "        crash_rate(`float`): value between 0 and 1 indicating probability of throwing \n",
    "            exception on execution\n",
    "    %U'''\n",
    "\n",
    "    crash = False\n",
    "    success = False\n",
    "    \n",
    "    if not title:\n",
    "        constants.default_title\n",
    "\n",
    "    if not crash_rate:\n",
    "        crash_rate = constants.default_crash_rate\n",
    "\n",
    "    if not max_priority_rate:\n",
    "        max_priority_rate = constants.default_max_priority_rate\n",
    "    \n",
    "    random.seed(time())\n",
    "    rand_val = random.random()\n",
    "    rand_priority = random.random()\n",
    "\n",
    "\n",
    "    logger.info(f'rand_priority: {rand_priority}, max_priority_rate: {max_priority_rate}')\n",
    "    if rand_priority >= max_priority_rate:\n",
    "        high_priority = True\n",
    "    else:\n",
    "        high_priority = False\n",
    "\n",
    "    logger.info(f\"high_priority mode: {high_priority}\")\n",
    "    \n",
    "    data = {\n",
    "        'title': f'{title}',\n",
    "        'crash_rate': f'Crash Rate: {crash_rate*100:.0f}%',\n",
    "        'digit_time': datetime.now().strftime(\"%H:%M:%S\"),\n",
    "        'priority': f'high_priority: {high_priority}',\n",
    "    }\n",
    "\n",
    "    if rand_val <= crash_rate:\n",
    "        logger.info('random crash occurred: will throw exception')\n",
    "        crash = True\n",
    "    else:\n",
    "        logger.info('random crash did not occur: will not throw exception')\n",
    "        crash = False\n",
    "\n",
    "    if crash:\n",
    "        raise Exception(f'random crash occured: random value {rand_val:.2f} <= {crash_rate:.2f}')\n",
    "    else:\n",
    "        success = True\n",
    "        \n",
    "    is_updated = True\n",
    "    return {'data': data, 'success': success, 'high_priority': high_priority}"
   ]
  }
 ],
 "metadata": {
  "jupytext": {
   "formats": "ipynb,py:light"
  },
  "kernelspec": {
   "display_name": "Python (PaperPi-Web-venv-33529be2c6)",
   "language": "python",
   "name": "paperpi-web-venv-33529be2c6"
  },
  "language_info": {
   "codemirror_mode": {
    "name": "ipython",
    "version": 3
   },
   "file_extension": ".py",
   "mimetype": "text/x-python",
   "name": "python",
   "nbconvert_exporter": "python",
   "pygments_lexer": "ipython3",
   "version": "3.11.2"
  }
 },
 "nbformat": 4,
 "nbformat_minor": 4
}
