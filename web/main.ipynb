{
 "cells": [
  {
   "cell_type": "code",
   "execution_count": null,
   "id": "fd56fa97-7add-4fe1-bdb2-ab4f8c327a83",
   "metadata": {},
   "outputs": [],
   "source": [
    "from fastapi import FastAPI\n",
    "from web.routes import base  # import your routes\n",
    "\n",
    "app = FastAPI()\n",
    "\n",
    "# Include routes\n",
    "app.include_router(base.router)"
   ]
  },
  {
   "cell_type": "code",
   "execution_count": null,
   "id": "22daecb8-4e0b-4c66-b0d2-4e9c4e1c50bc",
   "metadata": {},
   "outputs": [],
   "source": [
    "# ###############################################################################\n",
    "# # FLASK WEB SERVER\n",
    "# ###############################################################################\n",
    "\n",
    "# app = Flask(__name__)\n",
    "\n",
    "# # We'll store a flag indicating the daemon loop is running\n",
    "# daemon_running = True\n",
    "# # We'll also detect if we're in systemd mode or foreground\n",
    "# systemd_mode = running_under_systemd()\n",
    "\n",
    "# @app.route('/')\n",
    "# def home():\n",
    "#     return \"\"\"\n",
    "#     <h1>Welcome to PaperPi</h1>\n",
    "#     <p>Stub login page or config interface will go here.</p>\n",
    "#     <p>Try POSTing to /stop to halt the daemon.</p>\n",
    "#     \"\"\"\n",
    "\n",
    "# @app.route('/login')\n",
    "# def login():\n",
    "#     # Stub route for future authentication implementation\n",
    "#     return \"Login page (to be implemented).\"\n",
    "\n",
    "# @app.route('/stop', methods=['POST'])\n",
    "# def stop_route():\n",
    "#     \"\"\"\n",
    "#     A web endpoint to stop the daemon thread (and Flask).\n",
    "#     In systemd mode, the service will stop in the background.\n",
    "#     In foreground mode, we print 'stopped: press ctrl+c to exit.'\n",
    "#     \"\"\"\n",
    "#     global daemon_running\n",
    "#     daemon_running = False\n",
    "#     logger.info(\"Received /stop request; shutting down daemon and Flask...\")\n",
    "\n",
    "#     # Ask Flask's built-in server to shut down\n",
    "#     shutdown_server()\n",
    "\n",
    "#     if not systemd_mode:\n",
    "#         # In foreground mode, let the user know they can Ctrl+C\n",
    "#         logger.info(\"stopped: press ctrl+c to exit\")\n",
    "\n",
    "#     return jsonify({\"message\": \"Stopping daemon...\"})\n",
    "\n",
    "# def shutdown_server():\n",
    "#     \"\"\"\n",
    "#     Trigger a shutdown of the built-in Werkzeug server.\n",
    "#     \"\"\"\n",
    "#     func = request.environ.get('werkzeug.server.shutdown')\n",
    "#     if func is None:\n",
    "#         logger.warning(\"Not running with the Werkzeug Server, can't shut down cleanly.\")\n",
    "#     else:\n",
    "#         func()"
   ]
  }
 ],
 "metadata": {
  "kernelspec": {
   "display_name": "Python (PaperPi-Web-venv-33529be2c6)",
   "language": "python",
   "name": "paperpi-web-venv-33529be2c6"
  },
  "language_info": {
   "codemirror_mode": {
    "name": "ipython",
    "version": 3
   },
   "file_extension": ".py",
   "mimetype": "text/x-python",
   "name": "python",
   "nbconvert_exporter": "python",
   "pygments_lexer": "ipython3",
   "version": "3.11.2"
  }
 },
 "nbformat": 4,
 "nbformat_minor": 5
}
