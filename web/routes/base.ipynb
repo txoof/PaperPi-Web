{
 "cells": [
  {
   "cell_type": "code",
   "execution_count": null,
   "id": "33c4582c-7fa3-47a3-9c82-c883f70c8bfc",
   "metadata": {},
   "outputs": [],
   "source": [
    "# web/routes/base.py\n",
    "from fastapi import APIRouter, Request\n",
    "from fastapi.responses import HTMLResponse, JSONResponse\n",
    "import logging\n",
    "\n",
    "router = APIRouter()\n",
    "logger = logging.getLogger(__name__)\n",
    "\n",
    "# Flag will be imported from paperpi (global state for now)\n",
    "daemon_running = True\n",
    "systemd_mode = False  # You'll import the real one later\n",
    "\n",
    "@router.get('/', response_class=HTMLResponse)\n",
    "async def home():\n",
    "    return \"\"\"\n",
    "    <h1>Welcome to PaperPi</h1>\n",
    "    <p>Stub login page or config interface will go here.</p>\n",
    "    <p>Try POSTing to /stop to halt the daemon.</p>\n",
    "    \"\"\"\n",
    "\n",
    "@router.get('/login')\n",
    "async def login():\n",
    "    return \"Login page (to be implemented).\"\n",
    "\n",
    "@router.post('/stop')\n",
    "async def stop():\n",
    "    global daemon_running\n",
    "    daemon_running = False\n",
    "    logger.info(\"Received /stop request; shutting down daemon and FastAPI...\")\n",
    "\n",
    "    # In systemd mode, just return\n",
    "    if not systemd_mode:\n",
    "        logger.info(\"stopped: press ctrl+c to exit\")\n",
    "\n",
    "    return JSONResponse(content={\"message\": \"Stopping daemon...\"})"
   ]
  }
 ],
 "metadata": {
  "kernelspec": {
   "display_name": "Python (PaperPi-Web-venv-33529be2c6)",
   "language": "python",
   "name": "paperpi-web-venv-33529be2c6"
  },
  "language_info": {
   "codemirror_mode": {
    "name": "ipython",
    "version": 3
   },
   "file_extension": ".py",
   "mimetype": "text/x-python",
   "name": "python",
   "nbconvert_exporter": "python",
   "pygments_lexer": "ipython3",
   "version": "3.11.2"
  }
 },
 "nbformat": 4,
 "nbformat_minor": 5
}
