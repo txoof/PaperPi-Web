{
 "cells": [
  {
   "cell_type": "code",
   "execution_count": null,
   "id": "7e37aaaf-f939-45f1-b2c7-43908cd00026",
   "metadata": {},
   "outputs": [],
   "source": [
    "#!/usr/bin/env python"
   ]
  },
  {
   "cell_type": "code",
   "execution_count": null,
   "id": "dfe75af4-d304-42be-8469-29a606757d5d",
   "metadata": {},
   "outputs": [],
   "source": [
    "from flask import Flask, jsonify, request\n",
    "import subprocess\n",
    "\n",
    "app = Flask(__name__)\n",
    "\n",
    "@app.route('/')\n",
    "def index():\n",
    "    return \"Hello from PaperPi Web Interface!\"\n",
    "\n",
    "@app.route('/start_daemon', methods=['POST'])\n",
    "def start_daemon():\n",
    "    \"\"\"\n",
    "    Calls the daemon script with the \"start\" command.\n",
    "    In a real environment, you'd rely on systemd:\n",
    "      subprocess.run([\"sudo\", \"systemctl\", \"start\", \"paperpi\"])\n",
    "    \"\"\"\n",
    "    subprocess.Popen([\"python3.11\", \"paperpi_daemon.py\", \"start\"])\n",
    "    return jsonify({\"status\": \"daemon start command issued\"})\n",
    "\n",
    "@app.route('/stop_daemon', methods=['POST'])\n",
    "def stop_daemon():\n",
    "    \"\"\"\n",
    "    Calls the daemon script with the \"stop\" command.\n",
    "    This won't actually kill a foreground daemon unless\n",
    "    you have a background process + PID file logic.\n",
    "    \"\"\"\n",
    "    subprocess.run([\"python3.11\", \"paperpi_daemon.py\", \"stop\"])\n",
    "    return jsonify({\"status\": \"daemon stop command issued\"})\n",
    "\n",
    "@app.route('/daemon_status', methods=['GET'])\n",
    "def daemon_status():\n",
    "    \"\"\"\n",
    "    Calls the script with \"status\". We only log a message in\n",
    "    the daemon script, so we can't get real status back here.\n",
    "    In production, you'd check systemd or parse logs.\n",
    "    \"\"\"\n",
    "    output = subprocess.run([\"python3.11\", \"paperpi_daemon.py\", \"status\"], capture_output=True, text=True)\n",
    "    return jsonify({\"daemon_status\": output.stdout})\n",
    "\n",
    "if __name__ == '__main__':\n",
    "    # For dev/demo. In production, you’d run behind gunicorn or systemd.\n",
    "    app.run(host='0.0.0.0', port=5000, debug=True)"
   ]
  }
 ],
 "metadata": {
  "kernelspec": {
   "display_name": "Python (PaperPi-Web-venv-33529be2c6)",
   "language": "python",
   "name": "paperpi-web-venv-33529be2c6"
  },
  "language_info": {
   "codemirror_mode": {
    "name": "ipython",
    "version": 3
   },
   "file_extension": ".py",
   "mimetype": "text/x-python",
   "name": "python",
   "nbconvert_exporter": "python",
   "pygments_lexer": "ipython3",
   "version": "3.11.2"
  }
 },
 "nbformat": 4,
 "nbformat_minor": 5
}
