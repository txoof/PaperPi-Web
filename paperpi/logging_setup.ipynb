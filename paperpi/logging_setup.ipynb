{
 "cells": [
  {
   "cell_type": "code",
   "execution_count": 1,
   "id": "c17b5bb0-1d27-4bab-b3bb-f4fe34d4dddd",
   "metadata": {},
   "outputs": [],
   "source": [
    "import logging\n",
    "import sys"
   ]
  },
  {
   "cell_type": "code",
   "execution_count": 2,
   "id": "1d235798-b67b-46ec-8c4e-ea402f6ce804",
   "metadata": {},
   "outputs": [],
   "source": [
    "from constants import LOG_FORMAT, DATE_FORMAT"
   ]
  },
  {
   "cell_type": "code",
   "execution_count": 6,
   "id": "9a505699-455d-4d9d-9abb-6411b8397381",
   "metadata": {
    "lines_to_next_cell": 0
   },
   "outputs": [
    {
     "ename": "NameError",
     "evalue": "name 'LOG_FORMAT' is not defined",
     "output_type": "error",
     "traceback": [
      "\u001b[0;31m---------------------------------------------------------------------------\u001b[0m",
      "\u001b[0;31mNameError\u001b[0m                                 Traceback (most recent call last)",
      "Cell \u001b[0;32mIn[6], line 26\u001b[0m\n\u001b[1;32m     22\u001b[0m     library_logger \u001b[38;5;241m=\u001b[39m logging\u001b[38;5;241m.\u001b[39mgetLogger(\u001b[38;5;124m\"\u001b[39m\u001b[38;5;124mlibrary.plugin_manager\u001b[39m\u001b[38;5;124m\"\u001b[39m)\n\u001b[1;32m     24\u001b[0m     \u001b[38;5;28;01mreturn\u001b[39;00m logger\n\u001b[0;32m---> 26\u001b[0m logger \u001b[38;5;241m=\u001b[39m \u001b[43msetup_logging\u001b[49m\u001b[43m(\u001b[49m\u001b[43m)\u001b[49m\n",
      "Cell \u001b[0;32mIn[6], line 12\u001b[0m, in \u001b[0;36msetup_logging\u001b[0;34m(level)\u001b[0m\n\u001b[1;32m     10\u001b[0m \u001b[38;5;66;03m# Create a console handler\u001b[39;00m\n\u001b[1;32m     11\u001b[0m handler \u001b[38;5;241m=\u001b[39m logging\u001b[38;5;241m.\u001b[39mStreamHandler(sys\u001b[38;5;241m.\u001b[39mstdout)\n\u001b[0;32m---> 12\u001b[0m formatter \u001b[38;5;241m=\u001b[39m logging\u001b[38;5;241m.\u001b[39mFormatter(fmt\u001b[38;5;241m=\u001b[39m\u001b[43mLOG_FORMAT\u001b[49m, datefmt\u001b[38;5;241m=\u001b[39mDATE_FORMAT)\n\u001b[1;32m     13\u001b[0m handler\u001b[38;5;241m.\u001b[39msetFormatter(formatter)\n\u001b[1;32m     15\u001b[0m \u001b[38;5;66;03m# Attach the handler to the root logger\u001b[39;00m\n",
      "\u001b[0;31mNameError\u001b[0m: name 'LOG_FORMAT' is not defined"
     ]
    }
   ],
   "source": [
    "\n",
    "def setup_logging(level=logging.INFO):\n",
    "    # Set up the root logger\n",
    "    logger = logging.getLogger()\n",
    "    logger.setLevel(level)\n",
    "\n",
    "    # Remove existing handlers to avoid duplicates\n",
    "    if logger.hasHandlers():\n",
    "        logger.handlers.clear()\n",
    "\n",
    "    # Create a console handler\n",
    "    handler = logging.StreamHandler(sys.stdout)\n",
    "    formatter = logging.Formatter(fmt=LOG_FORMAT, datefmt=DATE_FORMAT)\n",
    "    handler.setFormatter(formatter)\n",
    "    \n",
    "    # Attach the handler to the root logger\n",
    "    logger.addHandler(handler)\n",
    "\n",
    "    # Test logging from the main program\n",
    "    logger.info(\"Logger setup complete. Ready to capture logs.\")\n",
    "    \n",
    "    # Test logging from a simulated library\n",
    "    library_logger = logging.getLogger(\"library.plugin_manager\")\n",
    "\n",
    "    return logger\n",
    "\n",
    "# logger = setup_logging()"
   ]
  },
  {
   "cell_type": "code",
   "execution_count": null,
   "id": "8609f120-a4dd-44df-90d6-f4fc4fd750c8",
   "metadata": {
    "lines_to_next_cell": 2
   },
   "outputs": [],
   "source": []
  }
 ],
 "metadata": {
  "kernelspec": {
   "display_name": "Python (PaperPi-Web-venv-33529be2c6)",
   "language": "python",
   "name": "paperpi-web-venv-33529be2c6"
  },
  "language_info": {
   "codemirror_mode": {
    "name": "ipython",
    "version": 3
   },
   "file_extension": ".py",
   "mimetype": "text/x-python",
   "name": "python",
   "nbconvert_exporter": "python",
   "pygments_lexer": "ipython3",
   "version": "3.11.2"
  }
 },
 "nbformat": 4,
 "nbformat_minor": 5
}
