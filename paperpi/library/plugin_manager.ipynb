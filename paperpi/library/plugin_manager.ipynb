{
 "cells": [
  {
   "cell_type": "code",
   "execution_count": 31,
   "id": "f53e0f8b-7d04-4a18-a3b2-59b51b26a4dd",
   "metadata": {},
   "outputs": [
    {
     "name": "stdout",
     "output_type": "stream",
     "text": [
      "The autoreload extension is already loaded. To reload it, use:\n",
      "  %reload_ext autoreload\n"
     ]
    }
   ],
   "source": [
    "# Enable automatic module reloading during development\n",
    "%load_ext autoreload\n",
    "%autoreload 2"
   ]
  },
  {
   "cell_type": "code",
   "execution_count": 105,
   "id": "d9f7e674-016a-4420-ba94-67f74524469d",
   "metadata": {},
   "outputs": [],
   "source": [
    "import logging\n",
    "from pathlib import Path\n",
    "import requests\n",
    "\n",
    "from typing import Optional, Dict, List\n",
    "\n",
    "\n",
    "\n",
    "try:\n",
    "    from paperpi.library.config_utils import check_config_problems\n",
    "except ImportError:\n",
    "#     # support jupyter developement\n",
    "    from config_utils import check_config_problems\n",
    "\n",
    "\n",
    "logger = logging.getLogger(__name__)"
   ]
  },
  {
   "cell_type": "code",
   "execution_count": 113,
   "id": "95e2d81e-8aeb-4595-a09d-5fb55c7c31fd",
   "metadata": {},
   "outputs": [
    {
     "name": "stdout",
     "output_type": "stream",
     "text": [
      "Help on function check_config_problems in module config_utils:\n",
      "\n",
      "check_config_problems(config: dict, schema: dict, strict: bool = True) -> dict\n",
      "    Check `config` against a dict-based schema, returning a dictionary of problems.\n",
      "    Args:\n",
      "        config (dict): The configuration to check.\n",
      "        schema (dict): Schema describing expected keys, types, allowed values, and ranges.\n",
      "        strict (bool): If True, report unknown keys not in the schema.\n",
      "    \n",
      "    Returns:\n",
      "        dict: A dictionary describing problems found, including machine and human readable information.\n",
      "\n"
     ]
    }
   ],
   "source": [
    "help(check_config_problems)"
   ]
  },
  {
   "cell_type": "code",
   "execution_count": 107,
   "id": "46525950-1c7f-4dca-9bad-381d6ba56f8a",
   "metadata": {},
   "outputs": [],
   "source": [
    "class PluginManager():\n",
    "    \"\"\"\n",
    "    Manages the loading, configuration, activation, and lifecycle of plugins.\n",
    "\n",
    "    Supports plugin schema validation, plugin instantiation, update cycles,\n",
    "    foreground switching, and caching of schema files.\n",
    "    \"\"\"\n",
    "\n",
    "    def __init__(\n",
    "        self,\n",
    "        screen_mode: str = '1',\n",
    "        resolution: tuple = (800, 480),\n",
    "        cache_root: str = '/tmp/PaperPi_cache/',\n",
    "        max_plugin_failures: int = 5,\n",
    "        cache_expire: int = 2\n",
    "    ):\n",
    "        \"\"\"\n",
    "        Initialize the PluginManager with configuration parameters.\n",
    "        Parameters have defaults matching plugin_manager_schema.yaml.\n",
    "        \"\"\"\n",
    "        self.logger = logger.getChild(\"PluginManager\")\n",
    "        self.screen_mode = screen_mode\n",
    "        self.resolution = resolution\n",
    "        self.cache_root = cache_root\n",
    "        self.max_plugin_failures = max_plugin_failures\n",
    "        self.cache_expire = cache_expire\n",
    "        self._daemon_port = 2822\n",
    "\n",
    "        # Prepare data structures\n",
    "        self.configured_plugins: List[dict] = []\n",
    "        self.active_plugins: List[dict] = []\n",
    "        self.dormant_plugins: List[dict] = []        \n",
    "\n",
    "        # keys to be dropped when comparing plugin configs\n",
    "        # self._transient_config_keys = ['uuid', 'plugin_status']\n",
    "        self.load_configured_plugins(f\"http://localhost:{self._daemon_port}\")\n",
    "\n",
    "    def load_configured_plugins(self, daemon_url: str):\n",
    "        url = f\"{daemon_url}/config/configured_plugins\"\n",
    "        try:\n",
    "            resp = requests.get(url, timeout=5)\n",
    "            resp.raise_for_status()\n",
    "        except requests.RequestException as e:\n",
    "            sef.logger.error(f\"Failed to fetch configured plugins: {e}\")\n",
    "            self._configured_plugins = []\n",
    "            return\n",
    "\n",
    "        data = resp.json().get(\"data\", [])\n",
    "        if not isinstance(data, list):\n",
    "            self.logger.error(\"Invalid plugin configuration format provided by daemon\")\n",
    "            self.logger.debug(f\"data:\\n{data}\")\n",
    "            self._configured_plugins = []\n",
    "\n",
    "        self.configured_plugins = data\n",
    "        self.logger.debug(self.configured_plugins)\n",
    "        self.logger.info(f\"Loaded {len(self.configured_plugins)} configured plugins from daemon\")\n",
    "        \n",
    "\n",
    "    def validate_config(self):\n",
    "        \"\"\"\n",
    "        Validate each configured plugin using daemon-provided schemas.     \n",
    "        \n",
    "        - Validates `plugin_config` against the plugin base schema.\n",
    "        - Validates `plugin_params` against the per-plugin schema at /schema/plugin/<type> (if present).\n",
    "        - Returns a list of results: [{plugin, ok, problems:{plugin_config, plugin_params}}]\n",
    "        \"\"\"\n",
    "        base_url = f\"http://localhost:{self._daemon_port}\"\n",
    "\n",
    "        # Fetch base plugin schema once\n",
    "        base_schema = {}\n",
    "        try:\n",
    "            resp = requests.get(f\"{base_url}/schema/plugin_base\", timeout=5)\n",
    "            if resp.status_code == 200:\n",
    "                payload = resp.json().get('data', {})\n",
    "                # If the schema is namespaced, prefer 'plugin_config' key\n",
    "                if isinstance(payload, dict) and 'plugin_config' in payload:\n",
    "                    base_schema = payload.get('plugin_config', {})\n",
    "                else:\n",
    "                    base_schema = payload\n",
    "            else:\n",
    "                self.logger.warning(\"/schema/plugin_base returned %s\", resp.status_code)\n",
    "        except Exception as e:\n",
    "            self.logger.error(\"Failed to fetch base plugin schema: %s\", e, exc_info=True)\n",
    "\n",
    "        results = []\n",
    "        for entry in (self.configured_plugins or []):\n",
    "            plugin_type = entry.get('plugin')\n",
    "            cfg = entry.get('plugin_config', {}) or {}\n",
    "            params = entry.get('plugin_params', {}) or {}\n",
    "\n",
    "            problems = {}\n",
    "\n",
    "            # Validate plugin_config against base schema if available\n",
    "            if isinstance(base_schema, dict) and base_schema:\n",
    "                try:\n",
    "                    p_cfg = check_config_problems(cfg, base_schema, strict=True)\n",
    "                    if p_cfg:\n",
    "                        problems['plugin_config'] = p_cfg\n",
    "                except Exception as e:\n",
    "                    self.logger.error(\"Validation error (plugin_config) for '%s': %s\", plugin_type, e, exc_info=True)\n",
    "                    problems['plugin_config'] = {'_error': f'validation_exception: {e}'}\n",
    "\n",
    "            # Fetch per-plugin params schema and validate\n",
    "            params_schema = {}\n",
    "            if plugin_type:\n",
    "                try:\n",
    "                    r = requests.get(f\"{base_url}/schema/plugin/{plugin_type}\", timeout=5)\n",
    "                    if r.status_code == 200:\n",
    "                        data = r.json().get('data', {})\n",
    "                        # handler may wrap under {'schema': {...}}\n",
    "                        if isinstance(data, dict) and 'schema' in data and isinstance(data['schema'], dict):\n",
    "                            params_schema = data['schema']\n",
    "                        else:\n",
    "                            params_schema = data if isinstance(data, dict) else {}\n",
    "                    elif r.status_code == 404:\n",
    "                        # No schema for this plugin type; treat as no constraints\n",
    "                        params_schema = {}\n",
    "                    else:\n",
    "                        self.logger.warning(\"/schema/plugin/%s returned %s\", plugin_type, r.status_code)\n",
    "                except Exception as e:\n",
    "                    self.logger.error(\"Failed to fetch params schema for '%s': %s\", plugin_type, e, exc_info=True)\n",
    "\n",
    "            if isinstance(params_schema, dict) and params_schema:\n",
    "                try:\n",
    "                    p_params = check_config_problems(params, params_schema, strict=True)\n",
    "                    if p_params:\n",
    "                        problems['plugin_params'] = p_params\n",
    "                except Exception as e:\n",
    "                    self.logger.error(\"Validation error (plugin_params) for '%s': %s\", plugin_type, e, exc_info=True)\n",
    "                    problems['plugin_params'] = {'_error': f'validation_exception: {e}'}\n",
    "\n",
    "            ok = not problems\n",
    "            results.append({\n",
    "                'plugin': plugin_type,\n",
    "                'ok': ok,\n",
    "                'problems': problems,\n",
    "            })\n",
    "\n",
    "        # Summary log\n",
    "        total = len(results)\n",
    "        oks = sum(1 for r in results if r['ok'])\n",
    "        self.logger.info(\"Plugin validation: %d total | %d ok | %d with problems\", total, oks, total - oks)\n",
    "        return results\n"
   ]
  },
  {
   "cell_type": "code",
   "execution_count": 108,
   "id": "4d80ad8c-cff9-4e8f-bbe4-8c2eb0e57aac",
   "metadata": {},
   "outputs": [],
   "source": [
    "import sys\n",
    "\n",
    "# Configure root logger to output to stdout\n",
    "logging.basicConfig(\n",
    "    level=logging.DEBUG,  # or INFO\n",
    "    format=\"%(asctime)s - %(name)s - %(levelname)s - %(message)s\",\n",
    "    handlers=[logging.StreamHandler(sys.stdout)]\n",
    ")\n",
    "\n",
    "# Optional: narrow to your module logger\n",
    "logging.getLogger(\"PluginManager\").setLevel(logging.DEBUG)"
   ]
  },
  {
   "cell_type": "code",
   "execution_count": 109,
   "id": "1424e8d9-90cf-4b75-bcf6-2b2a9a6f8eb9",
   "metadata": {},
   "outputs": [
    {
     "name": "stdout",
     "output_type": "stream",
     "text": [
      "2025-08-15 16:22:40,773 - urllib3.connectionpool - DEBUG - Starting new HTTP connection (1): localhost:2822\n",
      "2025-08-15 16:22:40,784 - urllib3.connectionpool - DEBUG - http://localhost:2822 \"GET /config/configured_plugins HTTP/1.1\" 200 None\n",
      "2025-08-15 16:22:40,787 - __main__.PluginManager - DEBUG - [{'plugin': 'word_clock', 'plugin_config': {'name': 'Word Clock 02', 'duration': 20, 'refresh_interval': 60, 'layout_name': 'layout'}, 'plugin_params': {'foo': 'bar', 'spam': 7, 'username': 'Monty'}}, {'plugin': 'basic_clock', 'plugin_config': {'name': 'Basic Clock', 'duration': 25, 'layout_name': 'layout'}}]\n",
      "2025-08-15 16:22:40,790 - __main__.PluginManager - INFO - Loaded 2 configured plugins from daemon\n"
     ]
    }
   ],
   "source": [
    "p = PluginManager()"
   ]
  },
  {
   "cell_type": "code",
   "execution_count": 112,
   "id": "be1d1270-ae77-45ae-a4da-b134868c8e95",
   "metadata": {},
   "outputs": [
    {
     "data": {
      "text/plain": [
       "[{'plugin': 'word_clock',\n",
       "  'plugin_config': {'name': 'Word Clock 02',\n",
       "   'duration': 20,\n",
       "   'refresh_interval': 60,\n",
       "   'layout_name': 'layout'},\n",
       "  'plugin_params': {'foo': 'bar', 'spam': 7, 'username': 'Monty'}},\n",
       " {'plugin': 'basic_clock',\n",
       "  'plugin_config': {'name': 'Basic Clock',\n",
       "   'duration': 25,\n",
       "   'layout_name': 'layout'}}]"
      ]
     },
     "execution_count": 112,
     "metadata": {},
     "output_type": "execute_result"
    }
   ],
   "source": [
    "p.configured_plugins"
   ]
  },
  {
   "cell_type": "code",
   "execution_count": 111,
   "id": "fc7fdf8c-89c0-4e4a-8950-a37a715e8c19",
   "metadata": {},
   "outputs": [
    {
     "name": "stdout",
     "output_type": "stream",
     "text": [
      "2025-08-15 16:22:45,664 - urllib3.connectionpool - DEBUG - Starting new HTTP connection (1): localhost:2822\n",
      "2025-08-15 16:22:45,682 - urllib3.connectionpool - DEBUG - http://localhost:2822 \"GET /schema/plugin_base HTTP/1.1\" 200 None\n",
      "2025-08-15 16:22:45,685 - __main__.PluginManager - ERROR - Validation error (plugin_config) for 'word_clock': 'str' object has no attribute 'get'\n",
      "Traceback (most recent call last):\n",
      "  File \"/tmp/ipykernel_9021/824573963.py\", line 96, in validate_config\n",
      "    p_cfg = check_config_problems(cfg, base_schema, strict=True)\n",
      "            ^^^^^^^^^^^^^^^^^^^^^^^^^^^^^^^^^^^^^^^^^^^^^^^^^^^^\n",
      "  File \"/home/pi/src/PaperPi-Web/paperpi/library/config_utils.py\", line 64, in check_config_problems\n",
      "    default_val = rules.get('default')\n",
      "                  ^^^^^^^^^\n",
      "AttributeError: 'str' object has no attribute 'get'\n",
      "2025-08-15 16:22:45,690 - urllib3.connectionpool - DEBUG - Starting new HTTP connection (1): localhost:2822\n",
      "2025-08-15 16:22:45,702 - urllib3.connectionpool - DEBUG - http://localhost:2822 \"GET /schema/plugin/word_clock HTTP/1.1\" 200 None\n",
      "2025-08-15 16:22:45,705 - __main__.PluginManager - ERROR - Validation error (plugin_config) for 'basic_clock': 'str' object has no attribute 'get'\n",
      "Traceback (most recent call last):\n",
      "  File \"/tmp/ipykernel_9021/824573963.py\", line 96, in validate_config\n",
      "    p_cfg = check_config_problems(cfg, base_schema, strict=True)\n",
      "            ^^^^^^^^^^^^^^^^^^^^^^^^^^^^^^^^^^^^^^^^^^^^^^^^^^^^\n",
      "  File \"/home/pi/src/PaperPi-Web/paperpi/library/config_utils.py\", line 64, in check_config_problems\n",
      "    default_val = rules.get('default')\n",
      "                  ^^^^^^^^^\n",
      "AttributeError: 'str' object has no attribute 'get'\n",
      "2025-08-15 16:22:45,711 - urllib3.connectionpool - DEBUG - Starting new HTTP connection (1): localhost:2822\n",
      "2025-08-15 16:22:45,717 - urllib3.connectionpool - DEBUG - http://localhost:2822 \"GET /schema/plugin/basic_clock HTTP/1.1\" 404 None\n",
      "2025-08-15 16:22:45,720 - __main__.PluginManager - INFO - Plugin validation: 2 total | 0 ok | 2 with problems\n"
     ]
    },
    {
     "data": {
      "text/plain": [
       "[{'plugin': 'word_clock',\n",
       "  'ok': False,\n",
       "  'problems': {'plugin_config': {'_error': \"validation_exception: 'str' object has no attribute 'get'\"},\n",
       "   'plugin_params': {'username': {'error': 'unknown_key',\n",
       "     'message': \"'username' is not defined in the schema.\"},\n",
       "    'spam': {'error': 'unknown_key',\n",
       "     'message': \"'spam' is not defined in the schema.\"},\n",
       "    'foo': {'error': 'unknown_key',\n",
       "     'message': \"'foo' is not defined in the schema.\"}}}},\n",
       " {'plugin': 'basic_clock',\n",
       "  'ok': False,\n",
       "  'problems': {'plugin_config': {'_error': \"validation_exception: 'str' object has no attribute 'get'\"}}}]"
      ]
     },
     "execution_count": 111,
     "metadata": {},
     "output_type": "execute_result"
    }
   ],
   "source": [
    "# p.load_configured_plugins(\"http://localhost:2822\")\n",
    "p.validate_config()"
   ]
  },
  {
   "cell_type": "code",
   "execution_count": null,
   "id": "2fe0f41c-b60d-4d74-8687-7164ab6ba4ac",
   "metadata": {
    "lines_to_next_cell": 2
   },
   "outputs": [],
   "source": []
  }
 ],
 "metadata": {
  "kernelspec": {
   "display_name": "Python (PaperPi-Web-venv-33529be2c6)",
   "language": "python",
   "name": "paperpi-web-venv-33529be2c6"
  },
  "language_info": {
   "codemirror_mode": {
    "name": "ipython",
    "version": 3
   },
   "file_extension": ".py",
   "mimetype": "text/x-python",
   "name": "python",
   "nbconvert_exporter": "python",
   "pygments_lexer": "ipython3",
   "version": "3.11.2"
  }
 },
 "nbformat": 4,
 "nbformat_minor": 5
}
