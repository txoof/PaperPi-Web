{
 "cells": [
  {
   "cell_type": "code",
   "execution_count": 1,
   "id": "f53e0f8b-7d04-4a18-a3b2-59b51b26a4dd",
   "metadata": {},
   "outputs": [],
   "source": [
    "# Enable automatic module reloading during development\n",
    "%load_ext autoreload\n",
    "%autoreload 2"
   ]
  },
  {
   "cell_type": "code",
   "execution_count": 2,
   "id": "d9f7e674-016a-4420-ba94-67f74524469d",
   "metadata": {},
   "outputs": [],
   "source": [
    "import logging\n",
    "from pathlib import Path\n",
    "import requests\n",
    "\n",
    "from typing import Optional, Dict, List\n",
    "\n",
    "\n",
    "\n",
    "try:\n",
    "    from paperpi.library.config_utils import check_config_problems\n",
    "except ImportError:\n",
    "#     # support jupyter developement\n",
    "    from config_utils import check_config_problems\n",
    "\n",
    "\n",
    "logger = logging.getLogger(__name__)"
   ]
  },
  {
   "cell_type": "code",
   "execution_count": 3,
   "id": "95e2d81e-8aeb-4595-a09d-5fb55c7c31fd",
   "metadata": {},
   "outputs": [
    {
     "name": "stdout",
     "output_type": "stream",
     "text": [
      "Help on function check_config_problems in module config_utils:\n",
      "\n",
      "check_config_problems(config: dict, schema: dict, strict: bool = True) -> dict\n",
      "    Check `config` against a dict-based schema, returning a dictionary of problems.\n",
      "    Args:\n",
      "        config (dict): The configuration to check.\n",
      "        schema (dict): Schema describing expected keys, types, allowed values, and ranges.\n",
      "        strict (bool): If True, report unknown keys not in the schema.\n",
      "    \n",
      "    Returns:\n",
      "        dict: A dictionary describing problems found, including machine and human readable information.\n",
      "\n"
     ]
    }
   ],
   "source": [
    "help(check_config_problems)"
   ]
  },
  {
   "cell_type": "code",
   "execution_count": 19,
   "id": "46525950-1c7f-4dca-9bad-381d6ba56f8a",
   "metadata": {},
   "outputs": [],
   "source": [
    "class PluginManager():\n",
    "    \"\"\"\n",
    "    Manages the loading, configuration, activation, and lifecycle of plugins.\n",
    "\n",
    "    Supports plugin schema validation, plugin instantiation, update cycles,\n",
    "    foreground switching, and caching of schema files.\n",
    "    \"\"\"\n",
    "\n",
    "    def __init__(\n",
    "        self,\n",
    "        screen_mode: str = '1',\n",
    "        resolution: tuple = (800, 480),\n",
    "        cache_root: str = '/tmp/PaperPi_cache/',\n",
    "        max_plugin_failures: int = 5,\n",
    "        cache_expire: int = 2\n",
    "    ):\n",
    "        \"\"\"\n",
    "        Initialize the PluginManager with configuration parameters.\n",
    "        Parameters have defaults matching plugin_manager_schema.yaml.\n",
    "        \"\"\"\n",
    "        self.logger = logger.getChild(\"PluginManager\")\n",
    "        self.screen_mode = screen_mode\n",
    "        self.resolution = resolution\n",
    "        self.cache_root = cache_root\n",
    "        self.max_plugin_failures = max_plugin_failures\n",
    "        self.cache_expire = cache_expire\n",
    "        self._daemon_port = 2822\n",
    "\n",
    "        # Prepare data structures\n",
    "        self.configured_plugins: List[dict] = []\n",
    "        self.active_plugins: List[dict] = []\n",
    "        self.dormant_plugins: List[dict] = []        \n",
    "\n",
    "        # keys to be dropped when comparing plugin configs\n",
    "        # self._transient_config_keys = ['uuid', 'plugin_status']\n",
    "        self.load_configured_plugins(f\"http://localhost:{self._daemon_port}\")\n",
    "\n",
    "    def load_configured_plugins(self, daemon_url: str):\n",
    "        url = f\"{daemon_url}/config/configured_plugins\"\n",
    "        try:\n",
    "            resp = requests.get(url, timeout=5)\n",
    "            resp.raise_for_status()\n",
    "        except requests.RequestException as e:\n",
    "            self.logger.error(f\"Failed to fetch configured plugins: {e}\")\n",
    "            self.configured_plugins = []\n",
    "            return\n",
    "\n",
    "        data = resp.json().get(\"data\", [])\n",
    "        if not isinstance(data, list):\n",
    "            self.logger.error(\"Invalid plugin configuration format provided by daemon\")\n",
    "            self.logger.debug(f\"data:\\n{data}\")\n",
    "            self.configured_plugins = []\n",
    "\n",
    "        self.configured_plugins = data\n",
    "        self.logger.debug(self.configured_plugins)\n",
    "        self.logger.info(f\"Loaded {len(self.configured_plugins)} configured plugins from daemon\")\n",
    "        \n",
    "\n",
    "    def validate_config(self):\n",
    "        \"\"\"\n",
    "        Validate each configured plugin using daemon-provided schemas.     \n",
    "        \n",
    "        - Validates `plugin_config` against the plugin base schema.\n",
    "        - Validates `plugin_params` against the per-plugin schema at /schema/plugin/<type> (if present).\n",
    "        - Returns a list of results: [{plugin, ok, problems:{plugin_config, plugin_params}}]\n",
    "        \"\"\"\n",
    "        unnamed_count = 0\n",
    "        base_url = f\"http://localhost:{self._daemon_port}\"\n",
    "\n",
    "        # Fetch base plugin schema once\n",
    "        base_schema = {}\n",
    "        try:\n",
    "            resp = requests.get(f\"{base_url}/schema/plugin_base\", timeout=5)\n",
    "            if resp.status_code == 200:\n",
    "                payload = resp.json().get('data', {})\n",
    "                # Prefer the real rules map under 'schema'; fallback to 'plugin_config'\n",
    "                if isinstance(payload, dict) and isinstance(payload.get('schema'), dict):\n",
    "                    base_schema = payload['schema']\n",
    "                elif isinstance(payload, dict) and isinstance(payload.get('plugin_config'), dict):\n",
    "                    base_schema = payload['plugin_config']\n",
    "                else:\n",
    "                    base_schema = {}\n",
    "            else:\n",
    "                self.logger.warning(\"/schema/plugin_base returned %s\", resp.status_code)\n",
    "        except Exception as e:\n",
    "            self.logger.error(\"Failed to fetch base plugin schema: %s\", e, exc_info=True)\n",
    "\n",
    "        self.logger.debug(f'base_schema:\\n{base_schema}')\n",
    "        \n",
    "        results = []\n",
    "        for entry in (self.configured_plugins or []):\n",
    "            plugin_type = entry.get('plugin')\n",
    "            cfg = entry.get('plugin_config', {}) or {}\n",
    "            name = cfg.get('name', '')\n",
    "            if not name:\n",
    "                name = f'{plugin_type}-{unnamed_count:03}'\n",
    "                unnamed_count += 1\n",
    "            params = entry.get('plugin_params', {}) or {}\n",
    "\n",
    "            problems = {}\n",
    "\n",
    "            # Validate plugin_config against base schema if available\n",
    "            if isinstance(base_schema, dict) and base_schema:\n",
    "                try:\n",
    "                    p_cfg = check_config_problems(cfg, base_schema, strict=True)\n",
    "                    if p_cfg:\n",
    "                        problems['plugin_config'] = p_cfg\n",
    "                except Exception as e:\n",
    "                    self.logger.error(\"Validation error (plugin_config) for '%s': %s\", plugin_type, e, exc_info=True)\n",
    "                    problems['plugin_config'] = {'_error': f'validation_exception: {e}'}\n",
    "\n",
    "            # Fetch per-plugin params schema and validate\n",
    "            params_schema = {}\n",
    "            if plugin_type:\n",
    "                try:\n",
    "                    r = requests.get(f\"{base_url}/schema/plugin/{plugin_type}\", timeout=5)\n",
    "                    if r.status_code == 200:\n",
    "                        data = r.json().get('data', {})\n",
    "                        # handler may wrap under {'schema': {...}}\n",
    "                        if isinstance(data, dict) and 'schema' in data and isinstance(data['schema'], dict):\n",
    "                            params_schema = data['schema']\n",
    "                        else:\n",
    "                            params_schema = data if isinstance(data, dict) else {}\n",
    "                    elif r.status_code == 404:\n",
    "                        # No schema for this plugin type; treat as no constraints\n",
    "                        params_schema = {}\n",
    "                    else:\n",
    "                        self.logger.warning(\"/schema/plugin/%s returned %s\", plugin_type, r.status_code)\n",
    "                except Exception as e:\n",
    "                    self.logger.error(\"Failed to fetch params schema for '%s': %s\", plugin_type, e, exc_info=True)\n",
    "\n",
    "            if isinstance(params_schema, dict) and params_schema:\n",
    "                try:\n",
    "                    p_params = check_config_problems(params, params_schema, strict=False)\n",
    "                    if p_params:\n",
    "                        problems['plugin_params'] = p_params\n",
    "                except Exception as e:\n",
    "                    self.logger.error(\"Validation error (plugin_params) for '%s': %s\", plugin_type, e, exc_info=True)\n",
    "                    problems['plugin_params'] = {'_error': f'validation_exception: {e}'}\n",
    "\n",
    "            ok = not problems\n",
    "            results.append({\n",
    "                'name': name,\n",
    "                'plugin': plugin_type,\n",
    "                'ok': ok,\n",
    "                'problems': problems,\n",
    "            })\n",
    "\n",
    "        # Summary log\n",
    "        total = len(results)\n",
    "        oks = sum(1 for r in results if r['ok'])\n",
    "        self.logger.info(\"Plugin validation: %d total | %d ok | %d with problems\", total, oks, total - oks)\n",
    "        return results\n"
   ]
  },
  {
   "cell_type": "code",
   "execution_count": 20,
   "id": "4d80ad8c-cff9-4e8f-bbe4-8c2eb0e57aac",
   "metadata": {},
   "outputs": [],
   "source": [
    "import sys\n",
    "\n",
    "# Configure root logger to output to stdout\n",
    "logging.basicConfig(\n",
    "    level=logging.DEBUG,  # or INFO\n",
    "    format=\"%(asctime)s - %(name)s - %(levelname)s - %(message)s\",\n",
    "    handlers=[logging.StreamHandler(sys.stdout)]\n",
    ")\n",
    "\n",
    "# Optional: narrow to your module logger\n",
    "logging.getLogger(\"PluginManager\").setLevel(logging.DEBUG)"
   ]
  },
  {
   "cell_type": "code",
   "execution_count": 22,
   "id": "1424e8d9-90cf-4b75-bcf6-2b2a9a6f8eb9",
   "metadata": {},
   "outputs": [
    {
     "name": "stdout",
     "output_type": "stream",
     "text": [
      "2025-08-15 17:52:11,296 - urllib3.connectionpool - DEBUG - Starting new HTTP connection (1): localhost:2822\n",
      "2025-08-15 17:52:11,310 - urllib3.connectionpool - DEBUG - http://localhost:2822 \"GET /config/configured_plugins HTTP/1.1\" 200 None\n",
      "2025-08-15 17:52:11,312 - __main__.PluginManager - DEBUG - [{'plugin': 'word_clock', 'plugin_config': {'name': 'Word Clock 02', 'duration': 20, 'refresh_interval': 60, 'layout_name': 'layout'}, 'plugin_params': {'bkground_color': 'BLACK', 'text_color': 'WHITE', 'username': 'Monty'}}, {'plugin': 'basic_clock', 'plugin_config': {'name': 'Basic Clock', 'duration': 25, 'layout_name': 'layout'}}, {'plugin': 'word_clock', 'plugin_config': {'name': 'Word Clock 01', 'duration': -20, 'refresh_interval': 60, 'layout_name': 'layout'}, 'plugin_params': {'foo': 'bar', 'spam': 7, 'username': 'Monty', 'bkground_color': 'Spam', 'text_color': 'Ham'}}]\n",
      "2025-08-15 17:52:11,314 - __main__.PluginManager - INFO - Loaded 3 configured plugins from daemon\n"
     ]
    }
   ],
   "source": [
    "p = PluginManager()"
   ]
  },
  {
   "cell_type": "code",
   "execution_count": 23,
   "id": "be1d1270-ae77-45ae-a4da-b134868c8e95",
   "metadata": {},
   "outputs": [
    {
     "data": {
      "text/plain": [
       "[{'plugin': 'word_clock',\n",
       "  'plugin_config': {'name': 'Word Clock 02',\n",
       "   'duration': 20,\n",
       "   'refresh_interval': 60,\n",
       "   'layout_name': 'layout'},\n",
       "  'plugin_params': {'bkground_color': 'BLACK',\n",
       "   'text_color': 'WHITE',\n",
       "   'username': 'Monty'}},\n",
       " {'plugin': 'basic_clock',\n",
       "  'plugin_config': {'name': 'Basic Clock',\n",
       "   'duration': 25,\n",
       "   'layout_name': 'layout'}},\n",
       " {'plugin': 'word_clock',\n",
       "  'plugin_config': {'name': 'Word Clock 01',\n",
       "   'duration': -20,\n",
       "   'refresh_interval': 60,\n",
       "   'layout_name': 'layout'},\n",
       "  'plugin_params': {'foo': 'bar',\n",
       "   'spam': 7,\n",
       "   'username': 'Monty',\n",
       "   'bkground_color': 'Spam',\n",
       "   'text_color': 'Ham'}}]"
      ]
     },
     "execution_count": 23,
     "metadata": {},
     "output_type": "execute_result"
    }
   ],
   "source": [
    "p.configured_plugins"
   ]
  },
  {
   "cell_type": "code",
   "execution_count": 24,
   "id": "fc7fdf8c-89c0-4e4a-8950-a37a715e8c19",
   "metadata": {},
   "outputs": [
    {
     "name": "stdout",
     "output_type": "stream",
     "text": [
      "2025-08-15 17:52:17,273 - urllib3.connectionpool - DEBUG - Starting new HTTP connection (1): localhost:2822\n",
      "2025-08-15 17:52:17,290 - urllib3.connectionpool - DEBUG - http://localhost:2822 \"GET /schema/plugin_base HTTP/1.1\" 200 None\n",
      "2025-08-15 17:52:17,293 - __main__.PluginManager - DEBUG - base_schema:\n",
      "{'name': {'type': 'str', 'default': None, 'description': 'Human readable plugin identifier'}, 'duration': {'type': 'int', 'default': 120, 'description': 'Amount of time in seconds to display plugin'}, 'refresh_interval': {'type': 'int', 'default': 60, 'description': 'Amount of time in seconds between refreshing the data for this plugin'}, 'layout_name': {'type': 'str', 'default': 'layout', 'required': True, 'description': 'Layout to use for displaying plugin'}, 'cache_dir': {'type': '(str, None)', 'default': None, 'description': 'Location within the cache to store cached content for this plugin'}, 'force_onebit': {'type': 'bool', 'default': False}, 'screen_mode': {'type': 'str', 'default': 'L', 'allowed': ['1', 'L', 'RGB']}, 'dormant': {'type': 'bool', 'default': False, 'description': 'Dormant plugins only display when required (e.g. when Spotify is actively playing)'}}\n",
      "2025-08-15 17:52:17,298 - urllib3.connectionpool - DEBUG - Starting new HTTP connection (1): localhost:2822\n",
      "2025-08-15 17:52:17,310 - urllib3.connectionpool - DEBUG - http://localhost:2822 \"GET /schema/plugin/word_clock HTTP/1.1\" 200 None\n",
      "2025-08-15 17:52:17,316 - urllib3.connectionpool - DEBUG - Starting new HTTP connection (1): localhost:2822\n",
      "2025-08-15 17:52:17,321 - urllib3.connectionpool - DEBUG - http://localhost:2822 \"GET /schema/plugin/basic_clock HTTP/1.1\" 404 None\n",
      "2025-08-15 17:52:17,327 - urllib3.connectionpool - DEBUG - Starting new HTTP connection (1): localhost:2822\n",
      "2025-08-15 17:52:17,337 - urllib3.connectionpool - DEBUG - http://localhost:2822 \"GET /schema/plugin/word_clock HTTP/1.1\" 200 None\n",
      "2025-08-15 17:52:17,341 - __main__.PluginManager - INFO - Plugin validation: 3 total | 2 ok | 1 with problems\n"
     ]
    }
   ],
   "source": [
    "# p.load_configured_plugins(\"http://localhost:2822\")\n",
    "r = p.validate_config()"
   ]
  },
  {
   "cell_type": "code",
   "execution_count": 25,
   "id": "ef81d70e-434f-44b5-b774-ea99945eb89f",
   "metadata": {},
   "outputs": [
    {
     "data": {
      "text/plain": [
       "[{'name': 'Word Clock 02', 'plugin': 'word_clock', 'ok': True, 'problems': {}},\n",
       " {'name': 'Basic Clock', 'plugin': 'basic_clock', 'ok': True, 'problems': {}},\n",
       " {'name': 'Word Clock 01',\n",
       "  'plugin': 'word_clock',\n",
       "  'ok': False,\n",
       "  'problems': {'plugin_params': {'text_color': {'error': 'invalid_value',\n",
       "     'allowed': ['RED',\n",
       "      'ORANGE',\n",
       "      'YELLOW',\n",
       "      'GREEN',\n",
       "      'BLUE',\n",
       "      'BLACK',\n",
       "      'WHITE',\n",
       "      'random'],\n",
       "     'actual': 'Ham',\n",
       "     'suggested_default': 'WHITE',\n",
       "     'message': \"'text_color' must be one of ['RED', 'ORANGE', 'YELLOW', 'GREEN', 'BLUE', 'BLACK', 'WHITE', 'random'], got Ham.\"},\n",
       "    'bkground_color': {'error': 'invalid_value',\n",
       "     'allowed': ['RED',\n",
       "      'ORANGE',\n",
       "      'YELLOW',\n",
       "      'GREEN',\n",
       "      'BLUE',\n",
       "      'BLACK',\n",
       "      'WHITE',\n",
       "      'random'],\n",
       "     'actual': 'Spam',\n",
       "     'suggested_default': 'WHITE',\n",
       "     'message': \"'bkground_color' must be one of ['RED', 'ORANGE', 'YELLOW', 'GREEN', 'BLUE', 'BLACK', 'WHITE', 'random'], got Spam.\"}}}}]"
      ]
     },
     "execution_count": 25,
     "metadata": {},
     "output_type": "execute_result"
    }
   ],
   "source": [
    "r"
   ]
  },
  {
   "cell_type": "code",
   "execution_count": null,
   "id": "2fe0f41c-b60d-4d74-8687-7164ab6ba4ac",
   "metadata": {
    "lines_to_next_cell": 2
   },
   "outputs": [],
   "source": [
    "base = {'schema': {'name': {'type': 'str', 'default': None, 'description': 'Human readable plugin identifier'}, 'duration': {'type': 'int', 'default': 120, 'description': 'Amount of time in seconds to display plugin'}, 'refresh_interval': {'type': 'int', 'default': 60, 'description': 'Amount of time in seconds between refreshing the data for this plugin'}, 'layout_name': {'type': 'str', 'default': 'layout', 'required': True, 'description': 'Layout to use for displaying plugin'}, 'cache_dir': {'type': '(str, None)', 'default': None, 'description': 'Location within the cache to store cached content for this plugin'}, 'force_onebit': {'type': 'bool', 'default': False}, 'screen_mode': {'type': 'str', 'default': 'L', 'allowed': ['1', 'L', 'RGB']}, 'dormant': {'type': 'bool', 'default': False, 'description': 'Dormant plugins only display when required (e.g. when Spotify is actively playing)'}}}\n",
    "config = {'plugin': 'word_clock',\n",
    "  'plugin_config': {'name': 'Word Clock 02',\n",
    "   'duration': 20,\n",
    "   'refresh_interval': 60,\n",
    "   'layout_name': 'layout'},\n",
    "  'plugin_params': {'foo': 'bar', 'spam': 7, 'username': 'Monty'}}\n"
   ]
  },
  {
   "cell_type": "code",
   "execution_count": null,
   "id": "481d36f7-f608-4e90-91a3-36ade39bc789",
   "metadata": {},
   "outputs": [],
   "source": [
    "params"
   ]
  },
  {
   "cell_type": "code",
   "execution_count": null,
   "id": "635b82de-d7c4-4ad3-9205-15f66301cf4d",
   "metadata": {},
   "outputs": [],
   "source": [
    "b_schema = base['schema']\n",
    "p_config = config['plugin_config']\n",
    "p_config['duration'] = 'cat'\n"
   ]
  },
  {
   "cell_type": "code",
   "execution_count": null,
   "id": "eea68126-b376-48b4-a0ab-2b6662df566c",
   "metadata": {},
   "outputs": [],
   "source": [
    "check_config_problems(p_config, b_schema)"
   ]
  },
  {
   "cell_type": "code",
   "execution_count": null,
   "id": "563fd76a-3588-441e-8c91-9e818e5408d2",
   "metadata": {},
   "outputs": [],
   "source": []
  }
 ],
 "metadata": {
  "kernelspec": {
   "display_name": "Python (PaperPi-Web-venv-33529be2c6)",
   "language": "python",
   "name": "paperpi-web-venv-33529be2c6"
  },
  "language_info": {
   "codemirror_mode": {
    "name": "ipython",
    "version": 3
   },
   "file_extension": ".py",
   "mimetype": "text/x-python",
   "name": "python",
   "nbconvert_exporter": "python",
   "pygments_lexer": "ipython3",
   "version": "3.11.2"
  }
 },
 "nbformat": 4,
 "nbformat_minor": 5
}
