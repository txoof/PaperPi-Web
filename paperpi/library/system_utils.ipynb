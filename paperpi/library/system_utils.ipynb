{
 "cells": [
  {
   "cell_type": "code",
   "execution_count": 1,
   "id": "30865111-bf52-4e37-93f7-0089c3487718",
   "metadata": {},
   "outputs": [],
   "source": [
    "import os"
   ]
  },
  {
   "cell_type": "code",
   "execution_count": 2,
   "id": "7e804f7d-9d87-4e89-83d1-85677d81c22a",
   "metadata": {},
   "outputs": [],
   "source": [
    "def running_under_systemd():\n",
    "    \"\"\"\n",
    "    A simple heuristic to detect if we're running under systemd.\n",
    "    If these environment variables are present, systemd likely launched us.\n",
    "    \"\"\"\n",
    "    return ('INVOCATION_ID' in os.environ) or ('JOURNAL_STREAM' in os.environ)"
   ]
  }
 ],
 "metadata": {
  "kernelspec": {
   "display_name": "Python (PaperPi-Web-venv-33529be2c6)",
   "language": "python",
   "name": "paperpi-web-venv-33529be2c6"
  },
  "language_info": {
   "codemirror_mode": {
    "name": "ipython",
    "version": 3
   },
   "file_extension": ".py",
   "mimetype": "text/x-python",
   "name": "python",
   "nbconvert_exporter": "python",
   "pygments_lexer": "ipython3",
   "version": "3.11.2"
  }
 },
 "nbformat": 4,
 "nbformat_minor": 5
}
