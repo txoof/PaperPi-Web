{
 "cells": [
  {
   "cell_type": "code",
   "execution_count": 2,
   "id": "9beaa03a-6d4a-4b96-a72b-a879c7634112",
   "metadata": {},
   "outputs": [],
   "source": [
    "class PluginError(Exception):\n",
    "    def __init__(self, message: str, plugin_name: str = \"Unknown Plugin\"):\n",
    "        \"\"\"\n",
    "        General-purpose error for plugins.\n",
    "\n",
    "        Args:\n",
    "            message (str): The error message describing what went wrong.\n",
    "            plugin_name (str): The name of the plugin where the error occurred.\n",
    "        \"\"\"\n",
    "        self.plugin_name = plugin_name\n",
    "        super().__init__(f\"[{plugin_name}] {message}\")"
   ]
  },
  {
   "cell_type": "code",
   "execution_count": 3,
   "id": "9b8bb4cc-aa94-4a23-83ee-04287857f914",
   "metadata": {},
   "outputs": [],
   "source": [
    "class ImageError(PluginError):\n",
    "    \"\"\"Exception raised for image processing errors.\"\"\"\n",
    "    def __init__(self, message: str, plugin_name: str = None):\n",
    "        super().__init__(message, plugin_name)"
   ]
  },
  {
   "cell_type": "code",
   "execution_count": 4,
   "id": "64cc76f5-7b4d-4ffd-a7ca-194e77dfe1b4",
   "metadata": {},
   "outputs": [],
   "source": [
    "class FileError(PluginError):\n",
    "    \"\"\"Exception raised for file I/O errors (e.g., saving or accessing cached files).\"\"\"\n",
    "    def __init__(self, message: str, plugin_name: str = None):\n",
    "        super().__init__(message, plugin_name)"
   ]
  },
  {
   "cell_type": "code",
   "execution_count": 6,
   "id": "9e45f07b-fd59-4b28-aa39-cdc209d36045",
   "metadata": {},
   "outputs": [],
   "source": [
    "class PluginTimeoutError(PluginError):\n",
    "    \"\"\"Exception raised when a plugin exceeds its allowed execution time.\"\"\"\n",
    "    def __init__(self, message: str, plugin_name: str = None):\n",
    "        super().__init__(message, plugin_name)"
   ]
  },
  {
   "cell_type": "code",
   "execution_count": null,
   "id": "94f7fe9b-bba7-4539-91a8-a7b7e4d58c02",
   "metadata": {},
   "outputs": [],
   "source": [
    "class ConfigurationError(PluginError):\n",
    "    \"\"\"Exception raised when there is a fatal configuration error\"\"\"\n",
    "    def __init__(self, message: str, plugin_name: str = None):\n",
    "        super().__init__(message, plugin_name)"
   ]
  }
 ],
 "metadata": {
  "kernelspec": {
   "display_name": "Python (PaperPi-Web-venv-33529be2c6)",
   "language": "python",
   "name": "paperpi-web-venv-33529be2c6"
  },
  "language_info": {
   "codemirror_mode": {
    "name": "ipython",
    "version": 3
   },
   "file_extension": ".py",
   "mimetype": "text/x-python",
   "name": "python",
   "nbconvert_exporter": "python",
   "pygments_lexer": "ipython3",
   "version": "3.11.2"
  }
 },
 "nbformat": 4,
 "nbformat_minor": 5
}
