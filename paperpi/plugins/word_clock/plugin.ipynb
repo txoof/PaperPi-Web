{
 "cells": [
  {
   "cell_type": "code",
   "execution_count": 1,
   "metadata": {},
   "outputs": [],
   "source": [
    "%load_ext autoreload\n",
    "%autoreload 2"
   ]
  },
  {
   "cell_type": "code",
   "execution_count": 8,
   "metadata": {},
   "outputs": [],
   "source": [
    "import logging\n",
    "from datetime import datetime\n",
    "from random import choice\n",
    "from copy import deepcopy\n",
    "import sys"
   ]
  },
  {
   "cell_type": "code",
   "execution_count": 9,
   "metadata": {},
   "outputs": [],
   "source": [
    "logger = logging.getLogger(__name__)"
   ]
  },
  {
   "cell_type": "code",
   "execution_count": 3,
   "metadata": {},
   "outputs": [],
   "source": [
    "try:\n",
    "    from . import constants\n",
    "except ImportError:\n",
    "    import constants"
   ]
  },
  {
   "cell_type": "code",
   "execution_count": 4,
   "metadata": {},
   "outputs": [],
   "source": [
    "def time_list(time):\n",
    "    '''Returns time as list [h, m] of type int\n",
    "    \n",
    "    Args:\n",
    "        time(`str`): time in colon separated format - 09:34; 23:15'''\n",
    "    return  [int(i)  for i in time.split(':')]"
   ]
  },
  {
   "cell_type": "code",
   "execution_count": null,
   "metadata": {},
   "outputs": [],
   "source": []
  },
  {
   "cell_type": "code",
   "execution_count": 5,
   "metadata": {},
   "outputs": [],
   "source": [
    "def time_now():\n",
    "    return datetime.now().strftime(\"%H:%M\")"
   ]
  },
  {
   "cell_type": "code",
   "execution_count": 6,
   "metadata": {},
   "outputs": [],
   "source": [
    "def map_val(a, b, s):\n",
    "    '''map range `a` to `b` for value `s`\n",
    "\n",
    "    Args:\n",
    "        a(2 `tuple` of `int`): (start, end) of input values\n",
    "        b(2 `tuple` of `int`): (start, end) of output values\n",
    "        s(`float`, `int`): value to map\n",
    "    Returns:\n",
    "        `int`'''\n",
    "    a1, a2 = a\n",
    "    b1, b2 = b\n",
    "    \n",
    "    t = b1 + ((s-a1) * (b2-b1))/(a2-a1)\n",
    "    \n",
    "    return round(t)"
   ]
  },
  {
   "cell_type": "code",
   "execution_count": 53,
   "metadata": {},
   "outputs": [],
   "source": [
    "def update_function(self, time=None, *args, **kwargs):\n",
    "    '''update function for word_clock provides time as text\n",
    "    \n",
    "    This plugin provides the time as a string such as:\n",
    "        * The time is around ten twenty\n",
    "        * It is about twenty after eight\n",
    "    \n",
    "    Args:\n",
    "        self(`namespace`)\n",
    "        time(`str`): time as a string in format HH:MM (primarily used for testing)\n",
    "        \n",
    "    Returns:\n",
    "        tuple:\n",
    "    %U'''\n",
    "    logger.info(f'update_function for {self.name}')\n",
    "    hours = constants.HOURS\n",
    "    minutes = constants.MINUTES\n",
    "    stems = constants.STEMS\n",
    "    \n",
    "    if time:\n",
    "        now = time\n",
    "        logger.debug(f'using {time}')\n",
    "        t_list = time_list(time)\n",
    "    else:\n",
    "        now = time_now()\n",
    "        logger.debug(f'using {now}')\n",
    "        t_list = time_list(now)\n",
    "        \n",
    "    # this range shifts the period of the list so times around the 'tens' round nicely up and down        \n",
    "    minute = map_val((1, 59), (0, 6), t_list[1])\n",
    "\n",
    "    # set the hour appropriately - from 'after' to 'til'\n",
    "    if t_list[1] <= 34:\n",
    "        hour_str = hours[str(t_list[0])]\n",
    "    else:\n",
    "        try:\n",
    "            hour_str = hours[str(t_list[0]+1)]\n",
    "        except KeyError as e:\n",
    "            # wrap around to zero'th index in the hours list\n",
    "            hour_str = hours[str(t_list[0]+1 - len(hours))]\n",
    "            hour_str = hours[str(0)]\n",
    "        \n",
    "    min_str = minutes[str(minute)]\n",
    "    \n",
    "    # properly organize the time string\n",
    "    # 'o clock times\n",
    "    if minute == 0 or minute == 6:\n",
    "        time_str = f'{choice(hour_str).title()} {choice(min_str).title()}'\n",
    "                      \n",
    "    else: \n",
    "        time_str = f'{choice(min_str).title()} {choice(hour_str).title()}'\n",
    "    \n",
    "    \n",
    "    data = {'wordtime': f'{choice(stems)} {time_str}',\n",
    "              'time': now}    \n",
    "\n",
    "    # if 'text_color' in self.config or 'bkground_color' in self.config:\n",
    "    #     logger.info('using user-defined colors')\n",
    "    #     colors = PluginTools.text_color(config=self.config, mode=self.screen_mode,\n",
    "    #                            default_text=self.layout.get('fill', 'WHITE'),\n",
    "    #                            default_bkground=self.layout.get('bkground', 'BLACK'))\n",
    "\n",
    "    #     text_color = colors['text_color']\n",
    "    #     bkground_color = colors['bkground_color']\n",
    "\n",
    "\n",
    "    #     # set the colors\n",
    "    #     for section in self.layout:\n",
    "    #         if self.layout[section].get('rgb_support', False):\n",
    "    #             logger.debug(f'setting {section} layout colors to fill: {text_color}, bkground: {bkground_color}')\n",
    "    #             self.layout_obj.update_block_props(section, {'fill': text_color, 'bkground': bkground_color})\n",
    "    #         else:\n",
    "    #             logger.debug(f'section {section} does not support RGB colors')\n",
    "    \n",
    "    return {'data': data, 'success': True}"
   ]
  }
 ],
 "metadata": {
  "kernelspec": {
   "display_name": "Python (PaperPi-Web-venv-33529be2c6)",
   "language": "python",
   "name": "paperpi-web-venv-33529be2c6"
  },
  "language_info": {
   "codemirror_mode": {
    "name": "ipython",
    "version": 3
   },
   "file_extension": ".py",
   "mimetype": "text/x-python",
   "name": "python",
   "nbconvert_exporter": "python",
   "pygments_lexer": "ipython3",
   "version": "3.11.2"
  }
 },
 "nbformat": 4,
 "nbformat_minor": 4
}
