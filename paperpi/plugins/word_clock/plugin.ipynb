{
 "cells": [
  {
   "cell_type": "code",
   "execution_count": 35,
   "metadata": {},
   "outputs": [
    {
     "name": "stdout",
     "output_type": "stream",
     "text": [
      "The autoreload extension is already loaded. To reload it, use:\n",
      "  %reload_ext autoreload\n"
     ]
    }
   ],
   "source": [
    "%load_ext autoreload\n",
    "%autoreload 2\n",
    "# %cd /home/pi/src/PaperPi-Web"
   ]
  },
  {
   "cell_type": "code",
   "execution_count": 36,
   "metadata": {},
   "outputs": [],
   "source": [
    "#code snip that makes path work so package imports and relative imports work\n",
    "# both in jupyter and as a script\n",
    "\n",
    "import sys\n",
    "from pathlib import Path\n",
    "\n",
    "def in_notebook() -> bool:\n",
    "    try:\n",
    "        from IPython import get_ipython  # noqa: F401\n",
    "        return True\n",
    "    except Exception:\n",
    "        return False\n",
    "\n",
    "def here_dir() -> Path:\n",
    "    # When executed as a script, __file__ exists\n",
    "    if '__file__' in globals():\n",
    "        return Path(__file__).resolve().parent\n",
    "    # In a notebook, fall back to the current working directory\n",
    "    return Path.cwd().resolve()\n",
    "\n",
    "def find_project_root(start: Path, markers=('pyproject.toml', 'setup.cfg', '.git', 'paperpi')):\n",
    "    cur = start\n",
    "    for _ in range(20):  # safety bound\n",
    "        # if any marker file or directory exists here, treat this as root\n",
    "        if any((cur / m).exists() for m in markers):\n",
    "            return cur\n",
    "        if cur.parent == cur:\n",
    "            break\n",
    "        cur = cur.parent\n",
    "    return None\n",
    "\n",
    "# 1) Determine where we are\n",
    "_nb_or_script_dir = here_dir()\n",
    "\n",
    "# 2) Locate the project root by walking upward until we find a marker\n",
    "_project_root = find_project_root(_nb_or_script_dir)\n",
    "\n",
    "# 3) Add paths in the right order\n",
    "#    - Ensure local directory is first so 'import constants' resolves locally\n",
    "#    - Ensure project root is also present so package imports work\n",
    "paths_to_add = []\n",
    "if str(_nb_or_script_dir) not in sys.path:\n",
    "    paths_to_add.append(str(_nb_or_script_dir))\n",
    "if _project_root and str(_project_root) not in sys.path:\n",
    "    paths_to_add.append(str(_project_root))\n",
    "\n",
    "# Prepend to sys.path, preserving existing entries\n",
    "sys.path[:0] = paths_to_add\n",
    "\n"
   ]
  },
  {
   "cell_type": "code",
   "execution_count": 37,
   "metadata": {},
   "outputs": [],
   "source": [
    "import logging\n",
    "from datetime import datetime\n",
    "from random import choice\n",
    "from copy import deepcopy\n"
   ]
  },
  {
   "cell_type": "code",
   "execution_count": 38,
   "metadata": {},
   "outputs": [],
   "source": [
    "from paperpi.library.base_plugin import BasePlugin"
   ]
  },
  {
   "cell_type": "code",
   "execution_count": 39,
   "metadata": {},
   "outputs": [],
   "source": [
    "logger = logging.getLogger(__name__)"
   ]
  },
  {
   "cell_type": "code",
   "execution_count": 40,
   "metadata": {},
   "outputs": [],
   "source": [
    "try:\n",
    "    from . import constants\n",
    "except ImportError:\n",
    "    import constants"
   ]
  },
  {
   "cell_type": "code",
   "execution_count": 41,
   "metadata": {},
   "outputs": [],
   "source": [
    "def _time_list(time):\n",
    "    '''Returns time as list [h, m] of type int\n",
    "    \n",
    "    Args:\n",
    "        time(`str`): time in colon separated format - 09:34; 23:15'''\n",
    "    return  [int(i)  for i in time.split(':')]"
   ]
  },
  {
   "cell_type": "code",
   "execution_count": 42,
   "metadata": {},
   "outputs": [],
   "source": [
    "def _time_now():\n",
    "    return datetime.now().strftime(\"%H:%M\")"
   ]
  },
  {
   "cell_type": "code",
   "execution_count": 43,
   "metadata": {},
   "outputs": [],
   "source": [
    "def _map_val(a, b, s):\n",
    "    '''map range `a` to `b` for value `s`\n",
    "\n",
    "    Args:\n",
    "        a(2 `tuple` of `int`): (start, end) of input values\n",
    "        b(2 `tuple` of `int`): (start, end) of output values\n",
    "        s(`float`, `int`): value to map\n",
    "    Returns:\n",
    "        `int`'''\n",
    "    a1, a2 = a\n",
    "    b1, b2 = b\n",
    "    \n",
    "    t = b1 + ((s-a1) * (b2-b1))/(a2-a1)\n",
    "    \n",
    "    return round(t)"
   ]
  },
  {
   "cell_type": "code",
   "execution_count": 44,
   "metadata": {},
   "outputs": [],
   "source": [
    "class Plugin(BasePlugin):\n",
    "    \"\"\"\n",
    "    Word Clock plugin: renders time as words.\n",
    "\n",
    "    Expects BasePlugin to provide:\n",
    "      - self.name\n",
    "      - self.screen_mode, self.layout (optional usage)\n",
    "      - any config/params via self.config / self.params if your BasePlugin exposes them\n",
    "    \"\"\"\n",
    "    def __init__(self, **kwargs):\n",
    "        super().__init__(**kwargs)\n",
    "        logger.info('Initing word_clock plugin instance')\n",
    "        \n",
    "    def update_data(self, *, now: str | None = None, **kwargs) -> dict:\n",
    "        \"\"\"\n",
    "        Provide the time as a word string such as:\n",
    "        - The time is around ten twenty\n",
    "        - It's about twenty after eight\n",
    "\n",
    "        Returns:\n",
    "            dict like {'data': {...}, 'success': True, 'high_priority': False}        \n",
    "        \"\"\"\n",
    "\n",
    "        logger.info(f'update_data for {self.name}')\n",
    "        hours = constants.HOURS\n",
    "        minutes = constants.MINUTES\n",
    "        stems = constants.STEMS\n",
    "\n",
    "        # allow injecting a time string for testing\n",
    "        use_time = now or _time_now()\n",
    "        t_list = _time_list(use_time)\n",
    "        logger.debug(f'using time: {use_time}')\n",
    "\n",
    "        # map minute into 0..6 bucket so we can say, \"about ten\", etc.\n",
    "        minute_bucket = _map_val((1, 59), (0, 6), t_list[1])\n",
    "\n",
    "        # choose hour: 0..34 -> current hour; 35..59 -> next hour (wrap at 24)\n",
    "        if t_list[1] <= 34:\n",
    "            hour_str_list = hours[str(t_list[0])]\n",
    "        else:\n",
    "            try:\n",
    "                hour_str_list = hours[str(t_list[0] + 1)]\n",
    "            except KeyError:\n",
    "                # wrap around to zeroth index in the hours list\n",
    "                hour_str_list = hours[str(0)]\n",
    "\n",
    "        min_str_list = minutes[str(minute_bucket)]\n",
    "\n",
    "        # build the time string\n",
    "        if minute_bucket in (0, 6): # o'clock\n",
    "            time_str = f\"{choice(hour_str_list).title()} {choice(min_str_list).title()}\"\n",
    "        else:\n",
    "            time_str = f\"{choice(min_str_list).title()} {choice(hour_str_list).title()}\"\n",
    "\n",
    "        data = {\n",
    "            \"wordtime\": f\"{choice(stems)} {time_str}\",\n",
    "            \"time\": use_time,\n",
    "        }\n",
    "        return {\"data\": data, \"success\": True, \"high_priority\": False}"
   ]
  }
 ],
 "metadata": {
  "kernelspec": {
   "display_name": "Python (PaperPi-Web-venv-33529be2c6)",
   "language": "python",
   "name": "paperpi-web-venv-33529be2c6"
  },
  "language_info": {
   "codemirror_mode": {
    "name": "ipython",
    "version": 3
   },
   "file_extension": ".py",
   "mimetype": "text/x-python",
   "name": "python",
   "nbconvert_exporter": "python",
   "pygments_lexer": "ipython3",
   "version": "3.11.2"
  }
 },
 "nbformat": 4,
 "nbformat_minor": 4
}
