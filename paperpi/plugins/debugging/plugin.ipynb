{
 "cells": [
  {
   "cell_type": "code",
   "execution_count": 1,
   "metadata": {},
   "outputs": [],
   "source": [
    "%load_ext autoreload\n",
    "%autoreload 2"
   ]
  },
  {
   "cell_type": "code",
   "execution_count": 2,
   "metadata": {},
   "outputs": [],
   "source": [
    "#code snip that makes path work so package imports and relative imports work\n",
    "# both in jupyter and as a script\n",
    "\n",
    "import sys\n",
    "from pathlib import Path\n",
    "\n",
    "def in_notebook() -> bool:\n",
    "    try:\n",
    "        from IPython import get_ipython  # noqa: F401\n",
    "        return True\n",
    "    except Exception:\n",
    "        return False\n",
    "\n",
    "def here_dir() -> Path:\n",
    "    # When executed as a script, __file__ exists\n",
    "    if '__file__' in globals():\n",
    "        return Path(__file__).resolve().parent\n",
    "    # In a notebook, fall back to the current working directory\n",
    "    return Path.cwd().resolve()\n",
    "\n",
    "def find_project_root(start: Path, markers=('pyproject.toml', 'setup.cfg', '.git', 'paperpi')):\n",
    "    cur = start\n",
    "    for _ in range(20):  # safety bound\n",
    "        # if any marker file or directory exists here, treat this as root\n",
    "        if any((cur / m).exists() for m in markers):\n",
    "            return cur\n",
    "        if cur.parent == cur:\n",
    "            break\n",
    "        cur = cur.parent\n",
    "    return None\n",
    "\n",
    "# 1) Determine where we are\n",
    "_nb_or_script_dir = here_dir()\n",
    "\n",
    "# 2) Locate the project root by walking upward until we find a marker\n",
    "_project_root = find_project_root(_nb_or_script_dir)\n",
    "\n",
    "# 3) Add paths in the right order\n",
    "#    - Ensure local directory is first so 'import constants' resolves locally\n",
    "#    - Ensure project root is also present so package imports work\n",
    "paths_to_add = []\n",
    "if str(_nb_or_script_dir) not in sys.path:\n",
    "    paths_to_add.append(str(_nb_or_script_dir))\n",
    "if _project_root and str(_project_root) not in sys.path:\n",
    "    paths_to_add.append(str(_project_root))\n",
    "\n",
    "# Prepend to sys.path, preserving existing entries\n",
    "sys.path[:0] = paths_to_add"
   ]
  },
  {
   "cell_type": "code",
   "execution_count": 3,
   "metadata": {},
   "outputs": [
    {
     "name": "stdout",
     "output_type": "stream",
     "text": [
      "2025-08-17 08:53:47 - INFO - logging_setup - Logger setup complete. Ready to capture logs.\n"
     ]
    }
   ],
   "source": [
    "import logging\n",
    "from datetime import datetime\n",
    "from time import time\n",
    "import random\n",
    "from pathlib import Path\n",
    "\n",
    "from paperpi.library.base_plugin import BasePlugin"
   ]
  },
  {
   "cell_type": "code",
   "execution_count": 4,
   "metadata": {
    "lines_to_next_cell": 2
   },
   "outputs": [],
   "source": [
    "# two different import modes for development or distribution\n",
    "try:\n",
    "    # import from other modules above this level\n",
    "    from . import layout\n",
    "    from . import constants\n",
    "except ImportError:\n",
    "    import constants\n",
    "    # development in jupyter notebook\n",
    "    import layout"
   ]
  },
  {
   "cell_type": "code",
   "execution_count": 5,
   "metadata": {},
   "outputs": [],
   "source": [
    "logger = logging.getLogger(__name__)"
   ]
  },
  {
   "cell_type": "code",
   "execution_count": 7,
   "metadata": {},
   "outputs": [],
   "source": [
    "def remove_non_alphanumeric(s):\n",
    "    # Using list comprehension to filter out non-alphanumeric characters\n",
    "    filtered_string = ''.join([char for char in s if char.isalnum()])\n",
    "    return filtered_string"
   ]
  },
  {
   "cell_type": "code",
   "execution_count": 8,
   "metadata": {},
   "outputs": [],
   "source": [
    "class Plugin(BasePlugin):\n",
    "    \"\"\"\n",
    "    Basic Clock plugin: renders time\n",
    "\n",
    "    Expects BasePlugin to provide:\n",
    "      - self.name\n",
    "      - self.screen_mode, self.layout (optional usage)\n",
    "      - any config/params via self.config / self.params \n",
    "    \"\"\"\n",
    "    def __init__(self, **kwargs):\n",
    "        super().__init__(**kwargs)\n",
    "        logger.info('Initing basic_clock plugin instance')\n",
    "        \n",
    "    def update_data(self, *, now: str | None = None, **kwargs) -> dict:\n",
    "        \"\"\"\n",
    "        update function for debugging plugin provides title, time, crash rate\n",
    "    \n",
    "        This plugin shows minimal data and is designed to throw exceptions to test other functionality. \n",
    "        The plugin will deliberately and randomly throw exceptions at the rate specified in the configuration. \n",
    "        When an exception is not thrown, the plugin will randomly change its priority to the max set in the \n",
    "        configuration. Set the rate at which the plugin should jump to the higher priority status in the configuration.\n",
    "        \n",
    "        \n",
    "        Args:\n",
    "            title(`str`): title of plugin to display\n",
    "            crash_rate(`float`): value between 0 and 1 indicating probability of throwing \n",
    "                exception on execution\n",
    "        \"\"\"\n",
    "\n",
    "        crash = False\n",
    "        success = False\n",
    "        title = self.config.get('title', None)\n",
    "        max_priority_rate = self.config.get('max_priority_rate', None)\n",
    "        crash_rate = self.config.get('crash_rate', None)\n",
    "        \n",
    "        if not title:\n",
    "            constants.default_title\n",
    "    \n",
    "        if not crash_rate:\n",
    "            crash_rate = constants.default_crash_rate\n",
    "    \n",
    "        if not max_priority_rate:\n",
    "            max_priority_rate = constants.default_max_priority_rate\n",
    "        \n",
    "        random.seed(time())\n",
    "        rand_crash = random.random()\n",
    "        rand_priority = random.random()\n",
    "    \n",
    "    \n",
    "        logger.info(f'rand_priority: {rand_priority}, max_priority_rate: {max_priority_rate}')\n",
    "        \n",
    "        if rand_priority <= max_priority_rate:\n",
    "            high_priority = True\n",
    "        else:\n",
    "            high_priority = False\n",
    "    \n",
    "        logger.info(f\"high_priority mode: {high_priority}\")\n",
    "        \n",
    "        data = {\n",
    "            'title': f'{title}',\n",
    "            'crash_rate': f'Crash Rate: {crash_rate*100:.0f}%',\n",
    "            'digit_time': datetime.now().strftime(\"%H:%M:%S\"),\n",
    "            'priority': f'high_priority: {high_priority}',\n",
    "        }\n",
    "    \n",
    "        if rand_crash <= crash_rate:\n",
    "            logger.info('Random CRASH!')\n",
    "            crash = True\n",
    "        \n",
    "        if crash:\n",
    "            raise Exception(f'random crash occured')\n",
    "        else:\n",
    "            success = True\n",
    "            \n",
    "        is_updated = True\n",
    "        return {'data': data, 'success': success, 'high_priority': high_priority}"
   ]
  }
 ],
 "metadata": {
  "jupytext": {
   "formats": "ipynb,py:light"
  },
  "kernelspec": {
   "display_name": "Python (PaperPi-Web-venv-33529be2c6)",
   "language": "python",
   "name": "paperpi-web-venv-33529be2c6"
  },
  "language_info": {
   "codemirror_mode": {
    "name": "ipython",
    "version": 3
   },
   "file_extension": ".py",
   "mimetype": "text/x-python",
   "name": "python",
   "nbconvert_exporter": "python",
   "pygments_lexer": "ipython3",
   "version": "3.11.2"
  }
 },
 "nbformat": 4,
 "nbformat_minor": 4
}
