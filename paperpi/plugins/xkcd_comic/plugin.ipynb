{
 "cells": [
  {
   "cell_type": "code",
   "execution_count": 1,
   "metadata": {},
   "outputs": [],
   "source": [
    "%load_ext autoreload\n",
    "%autoreload 2"
   ]
  },
  {
   "cell_type": "code",
   "execution_count": 2,
   "metadata": {},
   "outputs": [],
   "source": [
    "# your function must import layout and constants\n",
    "# this is structured to work both in Jupyter notebook and from the command line\n",
    "try:\n",
    "    from . import layout\n",
    "    from . import constants\n",
    "except ImportError:\n",
    "    import layout\n",
    "    import constants\n",
    "import logging\n",
    "from random import randint"
   ]
  },
  {
   "cell_type": "code",
   "execution_count": 3,
   "metadata": {},
   "outputs": [],
   "source": [
    "logger = logging.getLogger(__name__)"
   ]
  },
  {
   "cell_type": "code",
   "execution_count": 4,
   "metadata": {},
   "outputs": [],
   "source": [
    "import requests\n",
    "from requests import exceptions as RequestException\n",
    "from PIL import Image as PILImage"
   ]
  },
  {
   "cell_type": "code",
   "execution_count": 5,
   "metadata": {},
   "outputs": [],
   "source": [
    "def get_comic_json(url):\n",
    "    try:\n",
    "        result = requests.get(url)\n",
    "    except requests.exceptions.RequestException as e:\n",
    "        logger.error(f'failed to fetch document at {latest_url}: {e}')\n",
    "        result = None\n",
    "\n",
    "    try: \n",
    "        json = result.json()\n",
    "    except (AttributeError, ValueError) as e:\n",
    "        logger.error(f'failed to decode JSON result possibly due to previous errors: {e}')\n",
    "        json = {}\n",
    "    return json"
   ]
  },
  {
   "cell_type": "code",
   "execution_count": 6,
   "metadata": {},
   "outputs": [],
   "source": [
    "def resize_image(img, target):\n",
    "    '''resize an image to match target dimensions scaling to the longest side\n",
    "    \n",
    "    Args:\n",
    "        img(PIL Image): pillow image object\n",
    "        target(tuple of int): target size in pixles'''\n",
    "    logger.debug('resize image to ')\n",
    "    \n",
    "    idx = img.size.index(max(img.size))\n",
    "    if img.size[idx] < target[idx]:\n",
    "        r = target[idx]/img.size[idx]\n",
    "        new_dim = [int(s * r) for s in img.size]\n",
    "        new_img = img.resize(new_dim, PILImage.LANCZOS)\n",
    "    else: \n",
    "        img.thumbnail(target)\n",
    "        new_img = img\n",
    "        \n",
    "    return new_img"
   ]
  },
  {
   "cell_type": "code",
   "execution_count": 85,
   "metadata": {},
   "outputs": [],
   "source": [
    "def update_function(self, *args, **kwargs):\n",
    "    data = {}\n",
    "    success = False\n",
    "    latest_url = str.join('/', [constants.xkcd_url, constants.xkcd_json_doc])\n",
    "    latest_json = get_comic_json(latest_url)\n",
    "    comic_json = {}\n",
    "    max_x = self.config.get('max_x', 800)\n",
    "    max_y = self.config.get('max_y', 600)\n",
    "    max_retries = self.config.get('max_retries', 10)\n",
    "    resize = self.config.get('resize', False)\n",
    "\n",
    "    for i in range(max_retries):\n",
    "        logger.info(f\"Randomly selecting comic from {max_retries} total comics.\")\n",
    "        latest_index = latest_json.get('num', False)\n",
    "        if latest_index:\n",
    "            random_index = randint(1, int(latest_index))\n",
    "        else:\n",
    "            random_index = constants.default_comic\n",
    "            logger.error(f\"Using default comic due to previous errors: {random_index}\")\n",
    "            continue\n",
    "        \n",
    "        random_url = str.join('/', [constants.xkcd_url, str(random_index), constants.xkcd_json_doc])\n",
    "        comic_json = get_comic_json(random_url)\n",
    "        \n",
    "        img_url = comic_json.get('img', None)\n",
    "        if img_url:\n",
    "            image_file = self.download_image(img_url)\n",
    "        else:\n",
    "            logger.error(f\"Failed to download a valid image\")\n",
    "            continue\n",
    "\n",
    "        if image_file:\n",
    "            try:\n",
    "                image = PILImage.open(image_file)\n",
    "                logger.debug(f\"Download image size: image.size\")\n",
    "                if image.size[0] < max_x and image.size[1] < max_y:\n",
    "                    comic_json['image_file'] = image_file\n",
    "                    data = comic_json\n",
    "                    success = True\n",
    "                else:\n",
    "                    logger.info(\"Image exceeds max_x and/or max_y\")\n",
    "                    continue\n",
    "\n",
    "                if resize:\n",
    "                    logger.info(f\"Upscaling small image to fit {max_x}, {max_y}\")\n",
    "                    resized_img = resize_image(image, (max_x, max_y))\n",
    "                    resized_img.save(image_file)\n",
    "                    logger.debug(f'image resized to {resized_img.size}') \n",
    "            except Exception as e:\n",
    "                logger.error(f\"Failed to process downloaded file: {e}\")\n",
    "                \n",
    "    return {'data': data, 'success': success}"
   ]
  }
 ],
 "metadata": {
  "kernelspec": {
   "display_name": "Python (PaperPi-Web-venv-33529be2c6)",
   "language": "python",
   "name": "paperpi-web-venv-33529be2c6"
  },
  "language_info": {
   "codemirror_mode": {
    "name": "ipython",
    "version": 3
   },
   "file_extension": ".py",
   "mimetype": "text/x-python",
   "name": "python",
   "nbconvert_exporter": "python",
   "pygments_lexer": "ipython3",
   "version": "3.11.2"
  }
 },
 "nbformat": 4,
 "nbformat_minor": 4
}
