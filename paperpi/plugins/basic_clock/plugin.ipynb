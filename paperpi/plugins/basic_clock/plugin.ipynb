{
 "cells": [
  {
   "cell_type": "code",
   "execution_count": 3,
   "metadata": {
    "lines_to_next_cell": 2
   },
   "outputs": [],
   "source": [
    "import logging\n",
    "from datetime import datetime"
   ]
  },
  {
   "cell_type": "code",
   "execution_count": 4,
   "metadata": {},
   "outputs": [],
   "source": [
    "#code snip that makes path work so package imports and relative imports work\n",
    "# both in jupyter and as a script\n",
    "\n",
    "import sys\n",
    "from pathlib import Path\n",
    "\n",
    "def in_notebook() -> bool:\n",
    "    try:\n",
    "        from IPython import get_ipython  # noqa: F401\n",
    "        return True\n",
    "    except Exception:\n",
    "        return False\n",
    "\n",
    "def here_dir() -> Path:\n",
    "    # When executed as a script, __file__ exists\n",
    "    if '__file__' in globals():\n",
    "        return Path(__file__).resolve().parent\n",
    "    # In a notebook, fall back to the current working directory\n",
    "    return Path.cwd().resolve()\n",
    "\n",
    "def find_project_root(start: Path, markers=('pyproject.toml', 'setup.cfg', '.git', 'paperpi')):\n",
    "    cur = start\n",
    "    for _ in range(20):  # safety bound\n",
    "        # if any marker file or directory exists here, treat this as root\n",
    "        if any((cur / m).exists() for m in markers):\n",
    "            return cur\n",
    "        if cur.parent == cur:\n",
    "            break\n",
    "        cur = cur.parent\n",
    "    return None\n",
    "\n",
    "# 1) Determine where we are\n",
    "_nb_or_script_dir = here_dir()\n",
    "\n",
    "# 2) Locate the project root by walking upward until we find a marker\n",
    "_project_root = find_project_root(_nb_or_script_dir)\n",
    "\n",
    "# 3) Add paths in the right order\n",
    "#    - Ensure local directory is first so 'import constants' resolves locally\n",
    "#    - Ensure project root is also present so package imports work\n",
    "paths_to_add = []\n",
    "if str(_nb_or_script_dir) not in sys.path:\n",
    "    paths_to_add.append(str(_nb_or_script_dir))\n",
    "if _project_root and str(_project_root) not in sys.path:\n",
    "    paths_to_add.append(str(_project_root))\n",
    "\n",
    "# Prepend to sys.path, preserving existing entries\n",
    "sys.path[:0] = paths_to_add"
   ]
  },
  {
   "cell_type": "code",
   "execution_count": 5,
   "metadata": {},
   "outputs": [
    {
     "name": "stdout",
     "output_type": "stream",
     "text": [
      "2025-08-17 10:31:35 - INFO - logging_setup - Logger setup complete. Ready to capture logs.\n"
     ]
    }
   ],
   "source": [
    "from paperpi.library.base_plugin import BasePlugin"
   ]
  },
  {
   "cell_type": "code",
   "execution_count": 6,
   "metadata": {},
   "outputs": [],
   "source": [
    "logger = logging.getLogger(__name__)"
   ]
  },
  {
   "cell_type": "code",
   "execution_count": 7,
   "metadata": {},
   "outputs": [
    {
     "name": "stdout",
     "output_type": "stream",
     "text": [
      "2025-08-17 10:31:37 - INFO - 3512354974 - jupyter development load\n"
     ]
    }
   ],
   "source": [
    "try:\n",
    "    from . import constants\n",
    "    logger.info('production load')\n",
    "except ImportError:\n",
    "    import constants\n",
    "    logger.info('jupyter development load')"
   ]
  },
  {
   "cell_type": "code",
   "execution_count": 8,
   "metadata": {},
   "outputs": [],
   "source": [
    "class Plugin(BasePlugin):\n",
    "    \"\"\"\n",
    "    Basic Clock plugin: renders time\n",
    "\n",
    "    Expects BasePlugin to provide:\n",
    "      - self.name\n",
    "      - self.screen_mode, self.layout (optional usage)\n",
    "      - any config/params via self.config / self.params \n",
    "    \"\"\"\n",
    "    def __init__(self, **kwargs):\n",
    "        super().__init__(**kwargs)\n",
    "        logger.info('Initing basic_clock plugin instance')\n",
    "        \n",
    "    def update_data(self, *, now: str | None = None, **kwargs) -> dict:\n",
    "        \"\"\"\n",
    "        Provide the time as digits\n",
    "\n",
    "        Returns:\n",
    "            dict like {'data': {...}, 'success': True, 'high_priority': False}        \n",
    "        \"\"\"\n",
    "        \n",
    "        data = {'digit_time': datetime.now().strftime(\"%H:%M\")}\n",
    "    \n",
    "        return {'data': data, 'success': True, 'high_priority': False}"
   ]
  }
 ],
 "metadata": {
  "kernelspec": {
   "display_name": "Python (PaperPi-Web-venv-33529be2c6)",
   "language": "python",
   "name": "paperpi-web-venv-33529be2c6"
  },
  "language_info": {
   "codemirror_mode": {
    "name": "ipython",
    "version": 3
   },
   "file_extension": ".py",
   "mimetype": "text/x-python",
   "name": "python",
   "nbconvert_exporter": "python",
   "pygments_lexer": "ipython3",
   "version": "3.11.2"
  }
 },
 "nbformat": 4,
 "nbformat_minor": 4
}
