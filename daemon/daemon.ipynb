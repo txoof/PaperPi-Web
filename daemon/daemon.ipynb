{
 "cells": [
  {
   "cell_type": "code",
   "execution_count": null,
   "id": "5f55cc0a-964e-4dc6-b78b-86db62a1c4a9",
   "metadata": {},
   "outputs": [],
   "source": [
    "###############################################################################\n",
    "# DAEMON LOOP\n",
    "###############################################################################\n",
    "\n",
    "def daemon_loop():\n",
    "    \"\"\"\n",
    "    The background thread that handles e-paper updates.\n",
    "    It runs until daemon_running = False.\n",
    "    \"\"\"\n",
    "    logger.info(\"Daemon loop started.\")\n",
    "    while daemon_running:\n",
    "        logger.info(\"display update goes here\")\n",
    "        logger.info('morestuff')\n",
    "        # In production, you might call a function to update the display here\n",
    "        time.sleep(5)\n",
    "    logger.info(\"Daemon loop stopped.\")\n",
    "\n",
    "\n",
    "# from IPython.display import display, clear_output\n",
    "\n",
    "# current_image_hash = ''\n",
    "# plugin_manager.update_cycle()\n",
    "# try:\n",
    "#     while True:\n",
    "#         if current_image_hash != plugin_manager.foreground_plugin.image_hash:\n",
    "#             current_image_hash = plugin_manager.foreground_plugin.image_hash\n",
    "#             clear_output(wait=True)        \n",
    "#             display(plugin_manager.foreground_plugin.image)\n",
    "\n",
    "#         time.sleep(5)\n",
    "#         plugin_manager.update_cycle()\n",
    "# except KeyboardInterrupt:\n",
    "#     logger.info(\"Stopped update loop\")    "
   ]
  },
  {
   "cell_type": "code",
   "execution_count": null,
   "id": "79e62069-88d2-4a4a-9693-99ed40f75b39",
   "metadata": {},
   "outputs": [],
   "source": [
    "def handle_signal(signum, frame):\n",
    "    \"\"\"\n",
    "    Handle SIGINT (Ctrl+C) or SIGTERM (systemctl stop) for a graceful shutdown:\n",
    "      - Stop the daemon loop\n",
    "      - Shut down Flask if possible\n",
    "    \"\"\"\n",
    "    logger.info(f\"Signal {signum} received, initiating shutdown.\")\n",
    "    global daemon_running\n",
    "    daemon_running = False\n",
    "\n",
    "    \n",
    "    # shtudown web server here\n",
    "    try:\n",
    "        pass # shutdown \n",
    "    except Exception as e:\n",
    "        logger.debug(f\"Exception while shutting down Flask: {e}\")\n",
    "\n",
    "    # If running in the foreground, user can also press Ctrl+C again, but let's exit gracefully\n",
    "    sys.exit(0)\n"
   ]
  }
 ],
 "metadata": {
  "kernelspec": {
   "display_name": "Python (PaperPi-Web-venv-33529be2c6)",
   "language": "python",
   "name": "paperpi-web-venv-33529be2c6"
  },
  "language_info": {
   "codemirror_mode": {
    "name": "ipython",
    "version": 3
   },
   "file_extension": ".py",
   "mimetype": "text/x-python",
   "name": "python",
   "nbconvert_exporter": "python",
   "pygments_lexer": "ipython3",
   "version": "3.11.2"
  }
 },
 "nbformat": 4,
 "nbformat_minor": 5
}
